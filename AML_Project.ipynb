{
 "cells": [
  {
   "cell_type": "markdown",
   "id": "95818cdd",
   "metadata": {},
   "source": [
    "### IST.707.M001.SPRING22.Applied Machine Learning - FINAL PROJECT\n",
    "### Submitted by: Kirat Saran, Pranali Shenvi\n",
    "# Heart Disease Prediction"
   ]
  },
  {
   "cell_type": "code",
   "execution_count": 1,
   "id": "a4dc1ca4",
   "metadata": {},
   "outputs": [],
   "source": [
    "import pandas as pd\n",
    "\n",
    "import numpy as np\n",
    "\n",
    "import matplotlib.pyplot as plt\n",
    "\n",
    "import seaborn as sns\n",
    "\n",
    "# Importing two libraries numpy and pandas\n",
    "# Using numpy for using objects for multi-dimensional arrays\n",
    "# Using pandas for using structures and data analysis tools\n",
    "# Using matplotlib.pyplot for visualizations\n",
    "\n",
    "#MainFile = pd.read_csv('/Users/pranalishenvi/Desktop/heart_2020_cleaned.csv')\n",
    "MainFile = pd.read_csv('heart_2020_cleaned.csv')\n",
    "\n",
    "# Loading the csv file in Python as MainFile as a pandas dataframe"
   ]
  },
  {
   "cell_type": "code",
   "execution_count": 2,
   "id": "d08d6ef7",
   "metadata": {},
   "outputs": [
    {
     "data": {
      "text/html": [
       "<div>\n",
       "<style scoped>\n",
       "    .dataframe tbody tr th:only-of-type {\n",
       "        vertical-align: middle;\n",
       "    }\n",
       "\n",
       "    .dataframe tbody tr th {\n",
       "        vertical-align: top;\n",
       "    }\n",
       "\n",
       "    .dataframe thead th {\n",
       "        text-align: right;\n",
       "    }\n",
       "</style>\n",
       "<table border=\"1\" class=\"dataframe\">\n",
       "  <thead>\n",
       "    <tr style=\"text-align: right;\">\n",
       "      <th></th>\n",
       "      <th>HeartDisease</th>\n",
       "      <th>BMI</th>\n",
       "      <th>Smoking</th>\n",
       "      <th>AlcoholDrinking</th>\n",
       "      <th>Stroke</th>\n",
       "      <th>PhysicalHealth</th>\n",
       "      <th>MentalHealth</th>\n",
       "      <th>DiffWalking</th>\n",
       "      <th>Sex</th>\n",
       "      <th>AgeCategory</th>\n",
       "      <th>Race</th>\n",
       "      <th>Diabetic</th>\n",
       "      <th>PhysicalActivity</th>\n",
       "      <th>GenHealth</th>\n",
       "      <th>SleepTime</th>\n",
       "      <th>Asthma</th>\n",
       "      <th>KidneyDisease</th>\n",
       "      <th>SkinCancer</th>\n",
       "    </tr>\n",
       "  </thead>\n",
       "  <tbody>\n",
       "    <tr>\n",
       "      <th>0</th>\n",
       "      <td>No</td>\n",
       "      <td>16.60</td>\n",
       "      <td>Yes</td>\n",
       "      <td>No</td>\n",
       "      <td>No</td>\n",
       "      <td>3.0</td>\n",
       "      <td>30.0</td>\n",
       "      <td>No</td>\n",
       "      <td>Female</td>\n",
       "      <td>55-59</td>\n",
       "      <td>White</td>\n",
       "      <td>Yes</td>\n",
       "      <td>Yes</td>\n",
       "      <td>Very good</td>\n",
       "      <td>5.0</td>\n",
       "      <td>Yes</td>\n",
       "      <td>No</td>\n",
       "      <td>Yes</td>\n",
       "    </tr>\n",
       "    <tr>\n",
       "      <th>1</th>\n",
       "      <td>No</td>\n",
       "      <td>20.34</td>\n",
       "      <td>No</td>\n",
       "      <td>No</td>\n",
       "      <td>Yes</td>\n",
       "      <td>0.0</td>\n",
       "      <td>0.0</td>\n",
       "      <td>No</td>\n",
       "      <td>Female</td>\n",
       "      <td>80 or older</td>\n",
       "      <td>White</td>\n",
       "      <td>No</td>\n",
       "      <td>Yes</td>\n",
       "      <td>Very good</td>\n",
       "      <td>7.0</td>\n",
       "      <td>No</td>\n",
       "      <td>No</td>\n",
       "      <td>No</td>\n",
       "    </tr>\n",
       "    <tr>\n",
       "      <th>2</th>\n",
       "      <td>No</td>\n",
       "      <td>26.58</td>\n",
       "      <td>Yes</td>\n",
       "      <td>No</td>\n",
       "      <td>No</td>\n",
       "      <td>20.0</td>\n",
       "      <td>30.0</td>\n",
       "      <td>No</td>\n",
       "      <td>Male</td>\n",
       "      <td>65-69</td>\n",
       "      <td>White</td>\n",
       "      <td>Yes</td>\n",
       "      <td>Yes</td>\n",
       "      <td>Fair</td>\n",
       "      <td>8.0</td>\n",
       "      <td>Yes</td>\n",
       "      <td>No</td>\n",
       "      <td>No</td>\n",
       "    </tr>\n",
       "    <tr>\n",
       "      <th>3</th>\n",
       "      <td>No</td>\n",
       "      <td>24.21</td>\n",
       "      <td>No</td>\n",
       "      <td>No</td>\n",
       "      <td>No</td>\n",
       "      <td>0.0</td>\n",
       "      <td>0.0</td>\n",
       "      <td>No</td>\n",
       "      <td>Female</td>\n",
       "      <td>75-79</td>\n",
       "      <td>White</td>\n",
       "      <td>No</td>\n",
       "      <td>No</td>\n",
       "      <td>Good</td>\n",
       "      <td>6.0</td>\n",
       "      <td>No</td>\n",
       "      <td>No</td>\n",
       "      <td>Yes</td>\n",
       "    </tr>\n",
       "    <tr>\n",
       "      <th>4</th>\n",
       "      <td>No</td>\n",
       "      <td>23.71</td>\n",
       "      <td>No</td>\n",
       "      <td>No</td>\n",
       "      <td>No</td>\n",
       "      <td>28.0</td>\n",
       "      <td>0.0</td>\n",
       "      <td>Yes</td>\n",
       "      <td>Female</td>\n",
       "      <td>40-44</td>\n",
       "      <td>White</td>\n",
       "      <td>No</td>\n",
       "      <td>Yes</td>\n",
       "      <td>Very good</td>\n",
       "      <td>8.0</td>\n",
       "      <td>No</td>\n",
       "      <td>No</td>\n",
       "      <td>No</td>\n",
       "    </tr>\n",
       "  </tbody>\n",
       "</table>\n",
       "</div>"
      ],
      "text/plain": [
       "  HeartDisease    BMI Smoking AlcoholDrinking Stroke  PhysicalHealth  \\\n",
       "0           No  16.60     Yes              No     No             3.0   \n",
       "1           No  20.34      No              No    Yes             0.0   \n",
       "2           No  26.58     Yes              No     No            20.0   \n",
       "3           No  24.21      No              No     No             0.0   \n",
       "4           No  23.71      No              No     No            28.0   \n",
       "\n",
       "   MentalHealth DiffWalking     Sex  AgeCategory   Race Diabetic  \\\n",
       "0          30.0          No  Female        55-59  White      Yes   \n",
       "1           0.0          No  Female  80 or older  White       No   \n",
       "2          30.0          No    Male        65-69  White      Yes   \n",
       "3           0.0          No  Female        75-79  White       No   \n",
       "4           0.0         Yes  Female        40-44  White       No   \n",
       "\n",
       "  PhysicalActivity  GenHealth  SleepTime Asthma KidneyDisease SkinCancer  \n",
       "0              Yes  Very good        5.0    Yes            No        Yes  \n",
       "1              Yes  Very good        7.0     No            No         No  \n",
       "2              Yes       Fair        8.0    Yes            No         No  \n",
       "3               No       Good        6.0     No            No        Yes  \n",
       "4              Yes  Very good        8.0     No            No         No  "
      ]
     },
     "execution_count": 2,
     "metadata": {},
     "output_type": "execute_result"
    }
   ],
   "source": [
    "MainFile.head()\n",
    "\n",
    "# Using the head function to explore the first five rows of the dataset"
   ]
  },
  {
   "cell_type": "code",
   "execution_count": 3,
   "id": "80115be8",
   "metadata": {},
   "outputs": [
    {
     "data": {
      "text/plain": [
       "HeartDisease        0\n",
       "BMI                 0\n",
       "Smoking             0\n",
       "AlcoholDrinking     0\n",
       "Stroke              0\n",
       "PhysicalHealth      0\n",
       "MentalHealth        0\n",
       "DiffWalking         0\n",
       "Sex                 0\n",
       "AgeCategory         0\n",
       "Race                0\n",
       "Diabetic            0\n",
       "PhysicalActivity    0\n",
       "GenHealth           0\n",
       "SleepTime           0\n",
       "Asthma              0\n",
       "KidneyDisease       0\n",
       "SkinCancer          0\n",
       "dtype: int64"
      ]
     },
     "execution_count": 3,
     "metadata": {},
     "output_type": "execute_result"
    }
   ],
   "source": [
    "MainFile.isnull().sum(axis = 0)\n",
    "\n",
    "# Using the isnull function to check for null values\n",
    "# We can see that there are no null values in any of the columns in the dataset MainFile"
   ]
  },
  {
   "cell_type": "code",
   "execution_count": 4,
   "id": "500a1757",
   "metadata": {},
   "outputs": [
    {
     "name": "stdout",
     "output_type": "stream",
     "text": [
      "<class 'pandas.core.frame.DataFrame'>\n",
      "RangeIndex: 319795 entries, 0 to 319794\n",
      "Data columns (total 18 columns):\n",
      " #   Column            Non-Null Count   Dtype  \n",
      "---  ------            --------------   -----  \n",
      " 0   HeartDisease      319795 non-null  object \n",
      " 1   BMI               319795 non-null  float64\n",
      " 2   Smoking           319795 non-null  object \n",
      " 3   AlcoholDrinking   319795 non-null  object \n",
      " 4   Stroke            319795 non-null  object \n",
      " 5   PhysicalHealth    319795 non-null  float64\n",
      " 6   MentalHealth      319795 non-null  float64\n",
      " 7   DiffWalking       319795 non-null  object \n",
      " 8   Sex               319795 non-null  object \n",
      " 9   AgeCategory       319795 non-null  object \n",
      " 10  Race              319795 non-null  object \n",
      " 11  Diabetic          319795 non-null  object \n",
      " 12  PhysicalActivity  319795 non-null  object \n",
      " 13  GenHealth         319795 non-null  object \n",
      " 14  SleepTime         319795 non-null  float64\n",
      " 15  Asthma            319795 non-null  object \n",
      " 16  KidneyDisease     319795 non-null  object \n",
      " 17  SkinCancer        319795 non-null  object \n",
      "dtypes: float64(4), object(14)\n",
      "memory usage: 43.9+ MB\n"
     ]
    }
   ],
   "source": [
    "MainFile.info()\n",
    "\n",
    "# Using the info function we can check the data type of each column and we can also see the count of non - null \n",
    "# values\n",
    "# In the dataset MainFile we can see that there are 319795 non - null values in each column which means that there are\n",
    "# no null values in the dataset"
   ]
  },
  {
   "cell_type": "code",
   "execution_count": 5,
   "id": "8105f1f8",
   "metadata": {},
   "outputs": [
    {
     "data": {
      "text/html": [
       "<div>\n",
       "<style scoped>\n",
       "    .dataframe tbody tr th:only-of-type {\n",
       "        vertical-align: middle;\n",
       "    }\n",
       "\n",
       "    .dataframe tbody tr th {\n",
       "        vertical-align: top;\n",
       "    }\n",
       "\n",
       "    .dataframe thead th {\n",
       "        text-align: right;\n",
       "    }\n",
       "</style>\n",
       "<table border=\"1\" class=\"dataframe\">\n",
       "  <thead>\n",
       "    <tr style=\"text-align: right;\">\n",
       "      <th></th>\n",
       "      <th>HeartDisease</th>\n",
       "      <th>BMI</th>\n",
       "      <th>Smoking</th>\n",
       "      <th>AlcoholDrinking</th>\n",
       "      <th>Stroke</th>\n",
       "      <th>PhysicalHealth</th>\n",
       "      <th>MentalHealth</th>\n",
       "      <th>DiffWalking</th>\n",
       "      <th>Sex</th>\n",
       "      <th>AgeCategory</th>\n",
       "      <th>Race</th>\n",
       "      <th>Diabetic</th>\n",
       "      <th>PhysicalActivity</th>\n",
       "      <th>GenHealth</th>\n",
       "      <th>SleepTime</th>\n",
       "      <th>Asthma</th>\n",
       "      <th>KidneyDisease</th>\n",
       "      <th>SkinCancer</th>\n",
       "    </tr>\n",
       "  </thead>\n",
       "  <tbody>\n",
       "    <tr>\n",
       "      <th>2182</th>\n",
       "      <td>No</td>\n",
       "      <td>19.85</td>\n",
       "      <td>No</td>\n",
       "      <td>No</td>\n",
       "      <td>No</td>\n",
       "      <td>0.0</td>\n",
       "      <td>0.0</td>\n",
       "      <td>No</td>\n",
       "      <td>Female</td>\n",
       "      <td>80 or older</td>\n",
       "      <td>White</td>\n",
       "      <td>No</td>\n",
       "      <td>Yes</td>\n",
       "      <td>Excellent</td>\n",
       "      <td>7.0</td>\n",
       "      <td>No</td>\n",
       "      <td>No</td>\n",
       "      <td>No</td>\n",
       "    </tr>\n",
       "    <tr>\n",
       "      <th>3182</th>\n",
       "      <td>No</td>\n",
       "      <td>28.19</td>\n",
       "      <td>No</td>\n",
       "      <td>No</td>\n",
       "      <td>No</td>\n",
       "      <td>0.0</td>\n",
       "      <td>0.0</td>\n",
       "      <td>No</td>\n",
       "      <td>Female</td>\n",
       "      <td>50-54</td>\n",
       "      <td>White</td>\n",
       "      <td>No</td>\n",
       "      <td>Yes</td>\n",
       "      <td>Excellent</td>\n",
       "      <td>7.0</td>\n",
       "      <td>No</td>\n",
       "      <td>No</td>\n",
       "      <td>No</td>\n",
       "    </tr>\n",
       "    <tr>\n",
       "      <th>3397</th>\n",
       "      <td>No</td>\n",
       "      <td>26.54</td>\n",
       "      <td>No</td>\n",
       "      <td>No</td>\n",
       "      <td>No</td>\n",
       "      <td>0.0</td>\n",
       "      <td>0.0</td>\n",
       "      <td>No</td>\n",
       "      <td>Male</td>\n",
       "      <td>45-49</td>\n",
       "      <td>White</td>\n",
       "      <td>No</td>\n",
       "      <td>Yes</td>\n",
       "      <td>Excellent</td>\n",
       "      <td>6.0</td>\n",
       "      <td>No</td>\n",
       "      <td>No</td>\n",
       "      <td>No</td>\n",
       "    </tr>\n",
       "    <tr>\n",
       "      <th>3650</th>\n",
       "      <td>No</td>\n",
       "      <td>32.89</td>\n",
       "      <td>Yes</td>\n",
       "      <td>No</td>\n",
       "      <td>No</td>\n",
       "      <td>2.0</td>\n",
       "      <td>1.0</td>\n",
       "      <td>No</td>\n",
       "      <td>Female</td>\n",
       "      <td>50-54</td>\n",
       "      <td>White</td>\n",
       "      <td>No</td>\n",
       "      <td>Yes</td>\n",
       "      <td>Good</td>\n",
       "      <td>9.0</td>\n",
       "      <td>No</td>\n",
       "      <td>No</td>\n",
       "      <td>No</td>\n",
       "    </tr>\n",
       "    <tr>\n",
       "      <th>4061</th>\n",
       "      <td>No</td>\n",
       "      <td>25.84</td>\n",
       "      <td>No</td>\n",
       "      <td>No</td>\n",
       "      <td>No</td>\n",
       "      <td>0.0</td>\n",
       "      <td>0.0</td>\n",
       "      <td>No</td>\n",
       "      <td>Female</td>\n",
       "      <td>40-44</td>\n",
       "      <td>White</td>\n",
       "      <td>No</td>\n",
       "      <td>Yes</td>\n",
       "      <td>Excellent</td>\n",
       "      <td>8.0</td>\n",
       "      <td>No</td>\n",
       "      <td>No</td>\n",
       "      <td>No</td>\n",
       "    </tr>\n",
       "    <tr>\n",
       "      <th>...</th>\n",
       "      <td>...</td>\n",
       "      <td>...</td>\n",
       "      <td>...</td>\n",
       "      <td>...</td>\n",
       "      <td>...</td>\n",
       "      <td>...</td>\n",
       "      <td>...</td>\n",
       "      <td>...</td>\n",
       "      <td>...</td>\n",
       "      <td>...</td>\n",
       "      <td>...</td>\n",
       "      <td>...</td>\n",
       "      <td>...</td>\n",
       "      <td>...</td>\n",
       "      <td>...</td>\n",
       "      <td>...</td>\n",
       "      <td>...</td>\n",
       "      <td>...</td>\n",
       "    </tr>\n",
       "    <tr>\n",
       "      <th>319671</th>\n",
       "      <td>No</td>\n",
       "      <td>25.06</td>\n",
       "      <td>No</td>\n",
       "      <td>No</td>\n",
       "      <td>No</td>\n",
       "      <td>0.0</td>\n",
       "      <td>0.0</td>\n",
       "      <td>No</td>\n",
       "      <td>Male</td>\n",
       "      <td>40-44</td>\n",
       "      <td>Hispanic</td>\n",
       "      <td>No</td>\n",
       "      <td>Yes</td>\n",
       "      <td>Excellent</td>\n",
       "      <td>7.0</td>\n",
       "      <td>No</td>\n",
       "      <td>No</td>\n",
       "      <td>No</td>\n",
       "    </tr>\n",
       "    <tr>\n",
       "      <th>319689</th>\n",
       "      <td>No</td>\n",
       "      <td>27.44</td>\n",
       "      <td>No</td>\n",
       "      <td>No</td>\n",
       "      <td>No</td>\n",
       "      <td>0.0</td>\n",
       "      <td>0.0</td>\n",
       "      <td>No</td>\n",
       "      <td>Female</td>\n",
       "      <td>30-34</td>\n",
       "      <td>Hispanic</td>\n",
       "      <td>No</td>\n",
       "      <td>Yes</td>\n",
       "      <td>Very good</td>\n",
       "      <td>6.0</td>\n",
       "      <td>No</td>\n",
       "      <td>No</td>\n",
       "      <td>No</td>\n",
       "    </tr>\n",
       "    <tr>\n",
       "      <th>319726</th>\n",
       "      <td>No</td>\n",
       "      <td>30.41</td>\n",
       "      <td>No</td>\n",
       "      <td>No</td>\n",
       "      <td>No</td>\n",
       "      <td>0.0</td>\n",
       "      <td>0.0</td>\n",
       "      <td>No</td>\n",
       "      <td>Male</td>\n",
       "      <td>18-24</td>\n",
       "      <td>Hispanic</td>\n",
       "      <td>No</td>\n",
       "      <td>Yes</td>\n",
       "      <td>Excellent</td>\n",
       "      <td>7.0</td>\n",
       "      <td>No</td>\n",
       "      <td>No</td>\n",
       "      <td>No</td>\n",
       "    </tr>\n",
       "    <tr>\n",
       "      <th>319751</th>\n",
       "      <td>No</td>\n",
       "      <td>34.96</td>\n",
       "      <td>No</td>\n",
       "      <td>No</td>\n",
       "      <td>No</td>\n",
       "      <td>0.0</td>\n",
       "      <td>0.0</td>\n",
       "      <td>No</td>\n",
       "      <td>Male</td>\n",
       "      <td>18-24</td>\n",
       "      <td>Hispanic</td>\n",
       "      <td>No</td>\n",
       "      <td>Yes</td>\n",
       "      <td>Excellent</td>\n",
       "      <td>6.0</td>\n",
       "      <td>No</td>\n",
       "      <td>No</td>\n",
       "      <td>No</td>\n",
       "    </tr>\n",
       "    <tr>\n",
       "      <th>319776</th>\n",
       "      <td>No</td>\n",
       "      <td>27.98</td>\n",
       "      <td>No</td>\n",
       "      <td>No</td>\n",
       "      <td>No</td>\n",
       "      <td>0.0</td>\n",
       "      <td>0.0</td>\n",
       "      <td>No</td>\n",
       "      <td>Female</td>\n",
       "      <td>50-54</td>\n",
       "      <td>Hispanic</td>\n",
       "      <td>No</td>\n",
       "      <td>No</td>\n",
       "      <td>Good</td>\n",
       "      <td>8.0</td>\n",
       "      <td>No</td>\n",
       "      <td>No</td>\n",
       "      <td>No</td>\n",
       "    </tr>\n",
       "  </tbody>\n",
       "</table>\n",
       "<p>18078 rows × 18 columns</p>\n",
       "</div>"
      ],
      "text/plain": [
       "       HeartDisease    BMI Smoking AlcoholDrinking Stroke  PhysicalHealth  \\\n",
       "2182             No  19.85      No              No     No             0.0   \n",
       "3182             No  28.19      No              No     No             0.0   \n",
       "3397             No  26.54      No              No     No             0.0   \n",
       "3650             No  32.89     Yes              No     No             2.0   \n",
       "4061             No  25.84      No              No     No             0.0   \n",
       "...             ...    ...     ...             ...    ...             ...   \n",
       "319671           No  25.06      No              No     No             0.0   \n",
       "319689           No  27.44      No              No     No             0.0   \n",
       "319726           No  30.41      No              No     No             0.0   \n",
       "319751           No  34.96      No              No     No             0.0   \n",
       "319776           No  27.98      No              No     No             0.0   \n",
       "\n",
       "        MentalHealth DiffWalking     Sex  AgeCategory      Race Diabetic  \\\n",
       "2182             0.0          No  Female  80 or older     White       No   \n",
       "3182             0.0          No  Female        50-54     White       No   \n",
       "3397             0.0          No    Male        45-49     White       No   \n",
       "3650             1.0          No  Female        50-54     White       No   \n",
       "4061             0.0          No  Female        40-44     White       No   \n",
       "...              ...         ...     ...          ...       ...      ...   \n",
       "319671           0.0          No    Male        40-44  Hispanic       No   \n",
       "319689           0.0          No  Female        30-34  Hispanic       No   \n",
       "319726           0.0          No    Male        18-24  Hispanic       No   \n",
       "319751           0.0          No    Male        18-24  Hispanic       No   \n",
       "319776           0.0          No  Female        50-54  Hispanic       No   \n",
       "\n",
       "       PhysicalActivity  GenHealth  SleepTime Asthma KidneyDisease SkinCancer  \n",
       "2182                Yes  Excellent        7.0     No            No         No  \n",
       "3182                Yes  Excellent        7.0     No            No         No  \n",
       "3397                Yes  Excellent        6.0     No            No         No  \n",
       "3650                Yes       Good        9.0     No            No         No  \n",
       "4061                Yes  Excellent        8.0     No            No         No  \n",
       "...                 ...        ...        ...    ...           ...        ...  \n",
       "319671              Yes  Excellent        7.0     No            No         No  \n",
       "319689              Yes  Very good        6.0     No            No         No  \n",
       "319726              Yes  Excellent        7.0     No            No         No  \n",
       "319751              Yes  Excellent        6.0     No            No         No  \n",
       "319776               No       Good        8.0     No            No         No  \n",
       "\n",
       "[18078 rows x 18 columns]"
      ]
     },
     "execution_count": 5,
     "metadata": {},
     "output_type": "execute_result"
    }
   ],
   "source": [
    "duplicateRowsDF = MainFile[MainFile.duplicated()]\n",
    "duplicateRowsDF\n",
    "\n",
    "# We have used the duplicated function to check for any duplicate row values\n",
    "# Here, there are 18078 duplicate row values present\n",
    "# We are keeping these rows as we are assuming that there can be multiple individuals with same statistical values\n",
    "# of habits and health conditions"
   ]
  },
  {
   "cell_type": "code",
   "execution_count": 6,
   "id": "fc5a5714",
   "metadata": {},
   "outputs": [
    {
     "data": {
      "text/plain": [
       "No     292422\n",
       "Yes     27373\n",
       "Name: HeartDisease, dtype: int64"
      ]
     },
     "execution_count": 6,
     "metadata": {},
     "output_type": "execute_result"
    }
   ],
   "source": [
    "MainFile[\"HeartDisease\"].value_counts()\n",
    "\n",
    "# Using the value_counts function to find out the number of individuals having heart disease"
   ]
  },
  {
   "cell_type": "markdown",
   "id": "946be25f",
   "metadata": {},
   "source": [
    "We can also infer that our datasetin imbalanced. Accuracy score as a metric would be misleading for our imbalanced dataset. Classifier will predict the most common class (No HeartDisease) without performing any analysis of the features and therefore will interpret an incorrect high accuracy rate."
   ]
  },
  {
   "cell_type": "code",
   "execution_count": 7,
   "id": "88739a10",
   "metadata": {},
   "outputs": [
    {
     "data": {
      "text/plain": [
       "<AxesSubplot:ylabel='HeartDisease'>"
      ]
     },
     "execution_count": 7,
     "metadata": {},
     "output_type": "execute_result"
    },
    {
     "data": {
      "image/png": "[encoded data removed]",
      "text/plain": [
       "<Figure size 432x288 with 1 Axes>"
      ]
     },
     "metadata": {},
     "output_type": "display_data"
    }
   ],
   "source": [
    "MainFile[\"HeartDisease\"].value_counts().plot(kind = 'pie', autopct='%1.1f%%')\n",
    "\n",
    "# Plotting the pie chart for number of individuals having heart disease\n",
    "# We can see that only 8.6 percent of the individuals have heart disease\n",
    "# Our aim is to find the factors to reduce the percentage of individuals having heart disease"
   ]
  },
  {
   "cell_type": "markdown",
   "id": "eeaa39fe",
   "metadata": {},
   "source": [
    "Categorical and Numerical Variables"
   ]
  },
  {
   "cell_type": "code",
   "execution_count": 8,
   "id": "ab2f67e5",
   "metadata": {},
   "outputs": [],
   "source": [
    "df=pd.DataFrame(MainFile)\n",
    "\n",
    "# Creating a dataframe df of the dataset MainFile"
   ]
  },
  {
   "cell_type": "code",
   "execution_count": 9,
   "id": "cbbc9e68",
   "metadata": {},
   "outputs": [],
   "source": [
    "numerical_ft = df._get_numeric_data().columns.tolist()\n",
    "categorical_ft = df.select_dtypes(include=['object']).columns.tolist()"
   ]
  },
  {
   "cell_type": "code",
   "execution_count": 10,
   "id": "5a08ae37",
   "metadata": {},
   "outputs": [
    {
     "data": {
      "text/plain": [
       "['BMI', 'PhysicalHealth', 'MentalHealth', 'SleepTime']"
      ]
     },
     "execution_count": 10,
     "metadata": {},
     "output_type": "execute_result"
    }
   ],
   "source": [
    "numerical_ft"
   ]
  },
  {
   "cell_type": "code",
   "execution_count": 11,
   "id": "fdc369f0",
   "metadata": {},
   "outputs": [
    {
     "data": {
      "text/plain": [
       "['HeartDisease',\n",
       " 'Smoking',\n",
       " 'AlcoholDrinking',\n",
       " 'Stroke',\n",
       " 'DiffWalking',\n",
       " 'Sex',\n",
       " 'AgeCategory',\n",
       " 'Race',\n",
       " 'Diabetic',\n",
       " 'PhysicalActivity',\n",
       " 'GenHealth',\n",
       " 'Asthma',\n",
       " 'KidneyDisease',\n",
       " 'SkinCancer']"
      ]
     },
     "execution_count": 11,
     "metadata": {},
     "output_type": "execute_result"
    }
   ],
   "source": [
    "categorical_ft"
   ]
  },
  {
   "cell_type": "markdown",
   "id": "eb04e4ae",
   "metadata": {},
   "source": [
    "Imbalance visualisations\n",
    "1. Histograms for categorical features.\n",
    "2. Kernel Density Estimate (KDE) plots for numerical features."
   ]
  },
  {
   "cell_type": "code",
   "execution_count": 12,
   "id": "799d939c",
   "metadata": {},
   "outputs": [],
   "source": [
    "def bar_plot(df):\n",
    "    for feature in df[categorical_ft].iloc[:, 1:]:\n",
    "        figure, axis = plt.subplots(1, 1, figsize=(10, 8))\n",
    "        sns.histplot(data=df, x=feature, hue=\"HeartDisease\", multiple=\"dodge\", shrink=.7)\n",
    "        plt.title(f'{feature} with Heart Disease')\n",
    "        plt.show()"
   ]
  },
  {
   "cell_type": "code",
   "execution_count": 13,
   "id": "53ae05b3",
   "metadata": {},
   "outputs": [
    {
     "data": {
      "image/png": "[encoded data removed]",
      "text/plain": [
       "<Figure size 720x576 with 1 Axes>"
      ]
     },
     "metadata": {
      "needs_background": "light"
     },
     "output_type": "display_data"
    },
    {
     "data": {
      "image/png": "[encoded data removed]",
      "text/plain": [
       "<Figure size 720x576 with 1 Axes>"
      ]
     },
     "metadata": {
      "needs_background": "light"
     },
     "output_type": "display_data"
    },
    {
     "data": {
      "image/png": "[encoded data removed]",
      "text/plain": [
       "<Figure size 720x576 with 1 Axes>"
      ]
     },
     "metadata": {
      "needs_background": "light"
     },
     "output_type": "display_data"
    },
    {
     "data": {
      "image/png": "[encoded data removed]",
      "text/plain": [
       "<Figure size 720x576 with 1 Axes>"
      ]
     },
     "metadata": {
      "needs_background": "light"
     },
     "output_type": "display_data"
    },
    {
     "data": {
      "image/png": "[encoded data removed]",
      "text/plain": [
       "<Figure size 720x576 with 1 Axes>"
      ]
     },
     "metadata": {
      "needs_background": "light"
     },
     "output_type": "display_data"
    },
    {
     "data": {
      "image/png": "[encoded data removed]",
      "text/plain": [
       "<Figure size 720x576 with 1 Axes>"
      ]
     },
     "metadata": {
      "needs_background": "light"
     },
     "output_type": "display_data"
    },
    {
     "data": {
      "image/png": "[encoded data removed]",
      "text/plain": [
       "<Figure size 720x576 with 1 Axes>"
      ]
     },
     "metadata": {
      "needs_background": "light"
     },
     "output_type": "display_data"
    },
    {
     "data": {
      "image/png": "[encoded data removed]",
      "text/plain": [
       "<Figure size 720x576 with 1 Axes>"
      ]
     },
     "metadata": {
      "needs_background": "light"
     },
     "output_type": "display_data"
    },
    {
     "data": {
      "image/png": "[encoded data removed]",
      "text/plain": [
       "<Figure size 720x576 with 1 Axes>"
      ]
     },
     "metadata": {
      "needs_background": "light"
     },
     "output_type": "display_data"
    },
    {
     "data": {
      "image/png": "[encoded data removed]",
      "text/plain": [
       "<Figure size 720x576 with 1 Axes>"
      ]
     },
     "metadata": {
      "needs_background": "light"
     },
     "output_type": "display_data"
    },
    {
     "data": {
      "image/png": "[encoded data removed]",
      "text/plain": [
       "<Figure size 720x576 with 1 Axes>"
      ]
     },
     "metadata": {
      "needs_background": "light"
     },
     "output_type": "display_data"
    },
    {
     "data": {
      "image/png": "[encoded data removed]",
      "text/plain": [
       "<Figure size 720x576 with 1 Axes>"
      ]
     },
     "metadata": {
      "needs_background": "light"
     },
     "output_type": "display_data"
    },
    {
     "data": {
      "image/png": "[encoded data removed]",
      "text/plain": [
       "<Figure size 720x576 with 1 Axes>"
      ]
     },
     "metadata": {
      "needs_background": "light"
     },
     "output_type": "display_data"
    }
   ],
   "source": [
    "bar_plot(df)"
   ]
  },
  {
   "cell_type": "code",
   "execution_count": 14,
   "id": "f76970af",
   "metadata": {},
   "outputs": [],
   "source": [
    "def kde_plot(df):\n",
    "    for feature in df[numerical_ft].iloc[:, :]:\n",
    "        figure, axis = plt.subplots(1, 1, figsize=(10, 8))\n",
    "        sns.kdeplot(df.loc[(df['HeartDisease']=='Yes'), feature], color='red', shade=True, label='Yes')\n",
    "        sns.kdeplot(df.loc[(df['HeartDisease']=='No'), feature], color='green', shade= True, label='No')\n",
    "        plt.title(f'{feature} with Heart Disease')\n",
    "        plt.legend(title='Heart Disease')\n",
    "        plt.show()"
   ]
  },
  {
   "cell_type": "code",
   "execution_count": 15,
   "id": "eafb1b4e",
   "metadata": {},
   "outputs": [
    {
     "data": {
      "image/png": "[encoded data removed]",
      "text/plain": [
       "<Figure size 720x576 with 1 Axes>"
      ]
     },
     "metadata": {
      "needs_background": "light"
     },
     "output_type": "display_data"
    },
    {
     "data": {
      "image/png": "[encoded data removed]",
      "text/plain": [
       "<Figure size 720x576 with 1 Axes>"
      ]
     },
     "metadata": {
      "needs_background": "light"
     },
     "output_type": "display_data"
    },
    {
     "data": {
      "image/png": "[encoded data removed]",
      "text/plain": [
       "<Figure size 720x576 with 1 Axes>"
      ]
     },
     "metadata": {
      "needs_background": "light"
     },
     "output_type": "display_data"
    },
    {
     "data": {
      "image/png": "[encoded data removed]",
      "text/plain": [
       "<Figure size 720x576 with 1 Axes>"
      ]
     },
     "metadata": {
      "needs_background": "light"
     },
     "output_type": "display_data"
    }
   ],
   "source": [
    "kde_plot(df)"
   ]
  },
  {
   "cell_type": "code",
   "execution_count": 16,
   "id": "3a64bf0c",
   "metadata": {},
   "outputs": [
    {
     "data": {
      "text/html": [
       "<div>\n",
       "<style scoped>\n",
       "    .dataframe tbody tr th:only-of-type {\n",
       "        vertical-align: middle;\n",
       "    }\n",
       "\n",
       "    .dataframe tbody tr th {\n",
       "        vertical-align: top;\n",
       "    }\n",
       "\n",
       "    .dataframe thead tr th {\n",
       "        text-align: left;\n",
       "    }\n",
       "\n",
       "    .dataframe thead tr:last-of-type th {\n",
       "        text-align: right;\n",
       "    }\n",
       "</style>\n",
       "<table border=\"1\" class=\"dataframe\">\n",
       "  <thead>\n",
       "    <tr>\n",
       "      <th></th>\n",
       "      <th colspan=\"2\" halign=\"left\">HeartDisease</th>\n",
       "    </tr>\n",
       "    <tr>\n",
       "      <th>Sex</th>\n",
       "      <th>Female</th>\n",
       "      <th>Male</th>\n",
       "    </tr>\n",
       "    <tr>\n",
       "      <th>AgeCategory</th>\n",
       "      <th></th>\n",
       "      <th></th>\n",
       "    </tr>\n",
       "  </thead>\n",
       "  <tbody>\n",
       "    <tr>\n",
       "      <th>18-24</th>\n",
       "      <td>9434</td>\n",
       "      <td>11630</td>\n",
       "    </tr>\n",
       "    <tr>\n",
       "      <th>25-29</th>\n",
       "      <td>7956</td>\n",
       "      <td>8999</td>\n",
       "    </tr>\n",
       "    <tr>\n",
       "      <th>30-34</th>\n",
       "      <td>9130</td>\n",
       "      <td>9623</td>\n",
       "    </tr>\n",
       "    <tr>\n",
       "      <th>35-39</th>\n",
       "      <td>10458</td>\n",
       "      <td>10092</td>\n",
       "    </tr>\n",
       "    <tr>\n",
       "      <th>40-44</th>\n",
       "      <td>10952</td>\n",
       "      <td>10054</td>\n",
       "    </tr>\n",
       "    <tr>\n",
       "      <th>45-49</th>\n",
       "      <td>11438</td>\n",
       "      <td>10353</td>\n",
       "    </tr>\n",
       "    <tr>\n",
       "      <th>50-54</th>\n",
       "      <td>13335</td>\n",
       "      <td>12047</td>\n",
       "    </tr>\n",
       "    <tr>\n",
       "      <th>55-59</th>\n",
       "      <td>15487</td>\n",
       "      <td>14270</td>\n",
       "    </tr>\n",
       "    <tr>\n",
       "      <th>60-64</th>\n",
       "      <td>17572</td>\n",
       "      <td>16114</td>\n",
       "    </tr>\n",
       "    <tr>\n",
       "      <th>65-69</th>\n",
       "      <td>18048</td>\n",
       "      <td>16103</td>\n",
       "    </tr>\n",
       "    <tr>\n",
       "      <th>70-74</th>\n",
       "      <td>17089</td>\n",
       "      <td>13976</td>\n",
       "    </tr>\n",
       "    <tr>\n",
       "      <th>75-79</th>\n",
       "      <td>12190</td>\n",
       "      <td>9292</td>\n",
       "    </tr>\n",
       "    <tr>\n",
       "      <th>80 or older</th>\n",
       "      <td>14716</td>\n",
       "      <td>9437</td>\n",
       "    </tr>\n",
       "  </tbody>\n",
       "</table>\n",
       "</div>"
      ],
      "text/plain": [
       "            HeartDisease       \n",
       "Sex               Female   Male\n",
       "AgeCategory                    \n",
       "18-24               9434  11630\n",
       "25-29               7956   8999\n",
       "30-34               9130   9623\n",
       "35-39              10458  10092\n",
       "40-44              10952  10054\n",
       "45-49              11438  10353\n",
       "50-54              13335  12047\n",
       "55-59              15487  14270\n",
       "60-64              17572  16114\n",
       "65-69              18048  16103\n",
       "70-74              17089  13976\n",
       "75-79              12190   9292\n",
       "80 or older        14716   9437"
      ]
     },
     "execution_count": 16,
     "metadata": {},
     "output_type": "execute_result"
    }
   ],
   "source": [
    "Pivot=pd.pivot_table(MainFile, index=['AgeCategory'], columns=['Sex'], values=['HeartDisease'], aggfunc='count')\n",
    "Pivot"
   ]
  },
  {
   "cell_type": "code",
   "execution_count": 17,
   "id": "f09651b0",
   "metadata": {},
   "outputs": [
    {
     "data": {
      "text/plain": [
       "Text(0, 0.5, 'Disease count')"
      ]
     },
     "execution_count": 17,
     "metadata": {},
     "output_type": "execute_result"
    },
    {
     "data": {
      "text/plain": [
       "<Figure size 432x288 with 0 Axes>"
      ]
     },
     "metadata": {},
     "output_type": "display_data"
    },
    {
     "data": {
      "image/png": "[encoded data removed]",
      "text/plain": [
       "<Figure size 432x288 with 1 Axes>"
      ]
     },
     "metadata": {
      "needs_background": "light"
     },
     "output_type": "display_data"
    }
   ],
   "source": [
    "plt.figure()\n",
    "Pivot.plot.bar(title='Heart disease by Age Category and Sex', stacked=True)\n",
    "plt.xlabel('Age Group')\n",
    "plt.ylabel('Disease count') "
   ]
  },
  {
   "cell_type": "code",
   "execution_count": 18,
   "id": "d18ffab3",
   "metadata": {},
   "outputs": [],
   "source": [
    "dfyes = df.query('HeartDisease == \"Yes\"')\n",
    "dfno = df.query('HeartDisease == \"No\"')"
   ]
  },
  {
   "cell_type": "code",
   "execution_count": 19,
   "id": "72a26c7b",
   "metadata": {},
   "outputs": [
    {
     "data": {
      "image/png": "[encoded data removed]",
      "text/plain": [
       "<Figure size 720x504 with 1 Axes>"
      ]
     },
     "metadata": {
      "needs_background": "light"
     },
     "output_type": "display_data"
    }
   ],
   "source": [
    "#MainFile[\"BMI\"]\n",
    "#plt.show()\n",
    "\n",
    "# Creating histogram\n",
    "fig, axs = plt.subplots(1, 1,\n",
    "                    figsize =(10, 7),\n",
    "                    tight_layout = True)\n",
    "\n",
    "plt.hist(dfno[\"BMI\"], label = \"No Heart Disease\", alpha=.8, bins = 50, edgecolor = \"blue\")\n",
    "\n",
    "# Show plot\n",
    "plt.show()"
   ]
  },
  {
   "cell_type": "code",
   "execution_count": 20,
   "id": "0e586afe",
   "metadata": {},
   "outputs": [
    {
     "data": {
      "image/png": "[encoded data removed]",
      "text/plain": [
       "<Figure size 720x504 with 1 Axes>"
      ]
     },
     "metadata": {
      "needs_background": "light"
     },
     "output_type": "display_data"
    }
   ],
   "source": [
    "# Creating histogram\n",
    "fig, axs = plt.subplots(1, 1,\n",
    "                    figsize =(10, 7),\n",
    "                    tight_layout = True)\n",
    "\n",
    "plt.hist(dfyes[\"BMI\"], label = \"Heart Disease\", alpha=.7, bins = 50, color = \"orange\", edgecolor = \"red\")\n",
    "\n",
    "# Show plot\n",
    "plt.show()"
   ]
  },
  {
   "cell_type": "code",
   "execution_count": 21,
   "id": "88129874",
   "metadata": {},
   "outputs": [
    {
     "data": {
      "text/html": [
       "<div>\n",
       "<style scoped>\n",
       "    .dataframe tbody tr th:only-of-type {\n",
       "        vertical-align: middle;\n",
       "    }\n",
       "\n",
       "    .dataframe tbody tr th {\n",
       "        vertical-align: top;\n",
       "    }\n",
       "\n",
       "    .dataframe thead tr th {\n",
       "        text-align: left;\n",
       "    }\n",
       "\n",
       "    .dataframe thead tr:last-of-type th {\n",
       "        text-align: right;\n",
       "    }\n",
       "</style>\n",
       "<table border=\"1\" class=\"dataframe\">\n",
       "  <thead>\n",
       "    <tr>\n",
       "      <th></th>\n",
       "      <th colspan=\"2\" halign=\"left\">Sex</th>\n",
       "    </tr>\n",
       "    <tr>\n",
       "      <th>HeartDisease</th>\n",
       "      <th>No</th>\n",
       "      <th>Yes</th>\n",
       "    </tr>\n",
       "    <tr>\n",
       "      <th>Race</th>\n",
       "      <th></th>\n",
       "      <th></th>\n",
       "    </tr>\n",
       "  </thead>\n",
       "  <tbody>\n",
       "    <tr>\n",
       "      <th>American Indian/Alaskan Native</th>\n",
       "      <td>4660</td>\n",
       "      <td>542</td>\n",
       "    </tr>\n",
       "    <tr>\n",
       "      <th>Asian</th>\n",
       "      <td>7802</td>\n",
       "      <td>266</td>\n",
       "    </tr>\n",
       "    <tr>\n",
       "      <th>Black</th>\n",
       "      <td>21210</td>\n",
       "      <td>1729</td>\n",
       "    </tr>\n",
       "    <tr>\n",
       "      <th>Hispanic</th>\n",
       "      <td>26003</td>\n",
       "      <td>1443</td>\n",
       "    </tr>\n",
       "    <tr>\n",
       "      <th>Other</th>\n",
       "      <td>10042</td>\n",
       "      <td>886</td>\n",
       "    </tr>\n",
       "    <tr>\n",
       "      <th>White</th>\n",
       "      <td>222705</td>\n",
       "      <td>22507</td>\n",
       "    </tr>\n",
       "  </tbody>\n",
       "</table>\n",
       "</div>"
      ],
      "text/plain": [
       "                                   Sex       \n",
       "HeartDisease                        No    Yes\n",
       "Race                                         \n",
       "American Indian/Alaskan Native    4660    542\n",
       "Asian                             7802    266\n",
       "Black                            21210   1729\n",
       "Hispanic                         26003   1443\n",
       "Other                            10042    886\n",
       "White                           222705  22507"
      ]
     },
     "execution_count": 21,
     "metadata": {},
     "output_type": "execute_result"
    }
   ],
   "source": [
    "Pivot1=pd.pivot_table(MainFile, index=['Race'], columns=['HeartDisease'], values=['Sex'], aggfunc='count')\n",
    "Pivot1"
   ]
  },
  {
   "cell_type": "markdown",
   "id": "9d7f8739",
   "metadata": {},
   "source": [
    "##### Label encoding"
   ]
  },
  {
   "cell_type": "code",
   "execution_count": 22,
   "id": "accd7c8d",
   "metadata": {},
   "outputs": [],
   "source": [
    "from sklearn import preprocessing\n",
    " \n",
    "label_encoder = preprocessing.LabelEncoder()\n",
    " \n",
    "df['HeartDisease']= label_encoder.fit_transform(df['HeartDisease'])\n",
    "df['Smoking']= label_encoder.fit_transform(df['Smoking'])\n",
    "df['AlcoholDrinking']= label_encoder.fit_transform(df['AlcoholDrinking'])\n",
    "df['Stroke']= label_encoder.fit_transform(df['Stroke'])\n",
    "df['DiffWalking']= label_encoder.fit_transform(df['DiffWalking'])\n",
    "df['Sex']= label_encoder.fit_transform(df['Sex'])\n",
    "df['AgeCategory']= label_encoder.fit_transform(df['AgeCategory'])\n",
    "df['Race']= label_encoder.fit_transform(df['Race'])\n",
    "df['Diabetic']= label_encoder.fit_transform(df['Diabetic'])\n",
    "df['PhysicalActivity']= label_encoder.fit_transform(df['PhysicalActivity'])\n",
    "df['GenHealth']= label_encoder.fit_transform(df['GenHealth'])\n",
    "df['Asthma']= label_encoder.fit_transform(df['Asthma'])\n",
    "df['KidneyDisease']= label_encoder.fit_transform(df['KidneyDisease'])\n",
    "df['SkinCancer']= label_encoder.fit_transform(df['SkinCancer'])\n"
   ]
  },
  {
   "cell_type": "code",
   "execution_count": 23,
   "id": "53346c63",
   "metadata": {},
   "outputs": [
    {
     "name": "stdout",
     "output_type": "stream",
     "text": [
      "<class 'pandas.core.frame.DataFrame'>\n",
      "RangeIndex: 319795 entries, 0 to 319794\n",
      "Data columns (total 18 columns):\n",
      " #   Column            Non-Null Count   Dtype  \n",
      "---  ------            --------------   -----  \n",
      " 0   HeartDisease      319795 non-null  int64  \n",
      " 1   BMI               319795 non-null  float64\n",
      " 2   Smoking           319795 non-null  int64  \n",
      " 3   AlcoholDrinking   319795 non-null  int64  \n",
      " 4   Stroke            319795 non-null  int64  \n",
      " 5   PhysicalHealth    319795 non-null  float64\n",
      " 6   MentalHealth      319795 non-null  float64\n",
      " 7   DiffWalking       319795 non-null  int64  \n",
      " 8   Sex               319795 non-null  int64  \n",
      " 9   AgeCategory       319795 non-null  int64  \n",
      " 10  Race              319795 non-null  int64  \n",
      " 11  Diabetic          319795 non-null  int64  \n",
      " 12  PhysicalActivity  319795 non-null  int64  \n",
      " 13  GenHealth         319795 non-null  int64  \n",
      " 14  SleepTime         319795 non-null  float64\n",
      " 15  Asthma            319795 non-null  int64  \n",
      " 16  KidneyDisease     319795 non-null  int64  \n",
      " 17  SkinCancer        319795 non-null  int64  \n",
      "dtypes: float64(4), int64(14)\n",
      "memory usage: 43.9 MB\n"
     ]
    }
   ],
   "source": [
    "df.info()"
   ]
  },
  {
   "cell_type": "code",
   "execution_count": 24,
   "id": "7661ce68",
   "metadata": {},
   "outputs": [
    {
     "data": {
      "text/html": [
       "<div>\n",
       "<style scoped>\n",
       "    .dataframe tbody tr th:only-of-type {\n",
       "        vertical-align: middle;\n",
       "    }\n",
       "\n",
       "    .dataframe tbody tr th {\n",
       "        vertical-align: top;\n",
       "    }\n",
       "\n",
       "    .dataframe thead th {\n",
       "        text-align: right;\n",
       "    }\n",
       "</style>\n",
       "<table border=\"1\" class=\"dataframe\">\n",
       "  <thead>\n",
       "    <tr style=\"text-align: right;\">\n",
       "      <th></th>\n",
       "      <th>HeartDisease</th>\n",
       "      <th>BMI</th>\n",
       "      <th>Smoking</th>\n",
       "      <th>AlcoholDrinking</th>\n",
       "      <th>Stroke</th>\n",
       "      <th>PhysicalHealth</th>\n",
       "      <th>MentalHealth</th>\n",
       "      <th>DiffWalking</th>\n",
       "      <th>Sex</th>\n",
       "      <th>AgeCategory</th>\n",
       "      <th>Race</th>\n",
       "      <th>Diabetic</th>\n",
       "      <th>PhysicalActivity</th>\n",
       "      <th>GenHealth</th>\n",
       "      <th>SleepTime</th>\n",
       "      <th>Asthma</th>\n",
       "      <th>KidneyDisease</th>\n",
       "      <th>SkinCancer</th>\n",
       "    </tr>\n",
       "  </thead>\n",
       "  <tbody>\n",
       "    <tr>\n",
       "      <th>0</th>\n",
       "      <td>0</td>\n",
       "      <td>16.60</td>\n",
       "      <td>1</td>\n",
       "      <td>0</td>\n",
       "      <td>0</td>\n",
       "      <td>3.0</td>\n",
       "      <td>30.0</td>\n",
       "      <td>0</td>\n",
       "      <td>0</td>\n",
       "      <td>7</td>\n",
       "      <td>5</td>\n",
       "      <td>2</td>\n",
       "      <td>1</td>\n",
       "      <td>4</td>\n",
       "      <td>5.0</td>\n",
       "      <td>1</td>\n",
       "      <td>0</td>\n",
       "      <td>1</td>\n",
       "    </tr>\n",
       "    <tr>\n",
       "      <th>1</th>\n",
       "      <td>0</td>\n",
       "      <td>20.34</td>\n",
       "      <td>0</td>\n",
       "      <td>0</td>\n",
       "      <td>1</td>\n",
       "      <td>0.0</td>\n",
       "      <td>0.0</td>\n",
       "      <td>0</td>\n",
       "      <td>0</td>\n",
       "      <td>12</td>\n",
       "      <td>5</td>\n",
       "      <td>0</td>\n",
       "      <td>1</td>\n",
       "      <td>4</td>\n",
       "      <td>7.0</td>\n",
       "      <td>0</td>\n",
       "      <td>0</td>\n",
       "      <td>0</td>\n",
       "    </tr>\n",
       "    <tr>\n",
       "      <th>2</th>\n",
       "      <td>0</td>\n",
       "      <td>26.58</td>\n",
       "      <td>1</td>\n",
       "      <td>0</td>\n",
       "      <td>0</td>\n",
       "      <td>20.0</td>\n",
       "      <td>30.0</td>\n",
       "      <td>0</td>\n",
       "      <td>1</td>\n",
       "      <td>9</td>\n",
       "      <td>5</td>\n",
       "      <td>2</td>\n",
       "      <td>1</td>\n",
       "      <td>1</td>\n",
       "      <td>8.0</td>\n",
       "      <td>1</td>\n",
       "      <td>0</td>\n",
       "      <td>0</td>\n",
       "    </tr>\n",
       "    <tr>\n",
       "      <th>3</th>\n",
       "      <td>0</td>\n",
       "      <td>24.21</td>\n",
       "      <td>0</td>\n",
       "      <td>0</td>\n",
       "      <td>0</td>\n",
       "      <td>0.0</td>\n",
       "      <td>0.0</td>\n",
       "      <td>0</td>\n",
       "      <td>0</td>\n",
       "      <td>11</td>\n",
       "      <td>5</td>\n",
       "      <td>0</td>\n",
       "      <td>0</td>\n",
       "      <td>2</td>\n",
       "      <td>6.0</td>\n",
       "      <td>0</td>\n",
       "      <td>0</td>\n",
       "      <td>1</td>\n",
       "    </tr>\n",
       "    <tr>\n",
       "      <th>4</th>\n",
       "      <td>0</td>\n",
       "      <td>23.71</td>\n",
       "      <td>0</td>\n",
       "      <td>0</td>\n",
       "      <td>0</td>\n",
       "      <td>28.0</td>\n",
       "      <td>0.0</td>\n",
       "      <td>1</td>\n",
       "      <td>0</td>\n",
       "      <td>4</td>\n",
       "      <td>5</td>\n",
       "      <td>0</td>\n",
       "      <td>1</td>\n",
       "      <td>4</td>\n",
       "      <td>8.0</td>\n",
       "      <td>0</td>\n",
       "      <td>0</td>\n",
       "      <td>0</td>\n",
       "    </tr>\n",
       "  </tbody>\n",
       "</table>\n",
       "</div>"
      ],
      "text/plain": [
       "   HeartDisease    BMI  Smoking  AlcoholDrinking  Stroke  PhysicalHealth  \\\n",
       "0             0  16.60        1                0       0             3.0   \n",
       "1             0  20.34        0                0       1             0.0   \n",
       "2             0  26.58        1                0       0            20.0   \n",
       "3             0  24.21        0                0       0             0.0   \n",
       "4             0  23.71        0                0       0            28.0   \n",
       "\n",
       "   MentalHealth  DiffWalking  Sex  AgeCategory  Race  Diabetic  \\\n",
       "0          30.0            0    0            7     5         2   \n",
       "1           0.0            0    0           12     5         0   \n",
       "2          30.0            0    1            9     5         2   \n",
       "3           0.0            0    0           11     5         0   \n",
       "4           0.0            1    0            4     5         0   \n",
       "\n",
       "   PhysicalActivity  GenHealth  SleepTime  Asthma  KidneyDisease  SkinCancer  \n",
       "0                 1          4        5.0       1              0           1  \n",
       "1                 1          4        7.0       0              0           0  \n",
       "2                 1          1        8.0       1              0           0  \n",
       "3                 0          2        6.0       0              0           1  \n",
       "4                 1          4        8.0       0              0           0  "
      ]
     },
     "execution_count": 24,
     "metadata": {},
     "output_type": "execute_result"
    }
   ],
   "source": [
    "df.head()"
   ]
  },
  {
   "cell_type": "markdown",
   "id": "a42dd4df",
   "metadata": {},
   "source": [
    "##### Split dataset for training and testing"
   ]
  },
  {
   "cell_type": "code",
   "execution_count": 25,
   "id": "f1987cd1",
   "metadata": {},
   "outputs": [],
   "source": [
    "#Selecting features\n",
    "features = df.drop('HeartDisease', axis = 1)"
   ]
  },
  {
   "cell_type": "code",
   "execution_count": 26,
   "id": "86b16969",
   "metadata": {},
   "outputs": [],
   "source": [
    "#Target variable\n",
    "target = df['HeartDisease']"
   ]
  },
  {
   "cell_type": "code",
   "execution_count": 27,
   "id": "dbacc3b8",
   "metadata": {},
   "outputs": [],
   "source": [
    "from sklearn.model_selection import train_test_split\n",
    "\n",
    "X_train, X_test, y_train, y_test = train_test_split(features, target, test_size = 0.3, random_state = 44, stratify= target)\n",
    "#splitting the data into train and test with train size of 70% and test size \n",
    "#of 30% and stratify=target to balance the classes in both train and test"
   ]
  },
  {
   "cell_type": "code",
   "execution_count": 28,
   "id": "4657e92b",
   "metadata": {},
   "outputs": [
    {
     "data": {
      "text/plain": [
       "(223856, 17)"
      ]
     },
     "execution_count": 28,
     "metadata": {},
     "output_type": "execute_result"
    }
   ],
   "source": [
    "X_train.shape"
   ]
  },
  {
   "cell_type": "code",
   "execution_count": 29,
   "id": "240a2829",
   "metadata": {},
   "outputs": [
    {
     "data": {
      "text/plain": [
       "0    204695\n",
       "1     19161\n",
       "Name: HeartDisease, dtype: int64"
      ]
     },
     "execution_count": 29,
     "metadata": {},
     "output_type": "execute_result"
    }
   ],
   "source": [
    "y_train.value_counts()"
   ]
  },
  {
   "cell_type": "code",
   "execution_count": 30,
   "id": "4c9d6a7e",
   "metadata": {},
   "outputs": [
    {
     "data": {
      "text/plain": [
       "(95939, 17)"
      ]
     },
     "execution_count": 30,
     "metadata": {},
     "output_type": "execute_result"
    }
   ],
   "source": [
    "X_test.shape"
   ]
  },
  {
   "cell_type": "code",
   "execution_count": 31,
   "id": "78d90393",
   "metadata": {},
   "outputs": [
    {
     "data": {
      "text/plain": [
       "0    87727\n",
       "1     8212\n",
       "Name: HeartDisease, dtype: int64"
      ]
     },
     "execution_count": 31,
     "metadata": {},
     "output_type": "execute_result"
    }
   ],
   "source": [
    "y_test.value_counts()"
   ]
  },
  {
   "cell_type": "code",
   "execution_count": 32,
   "id": "fce4edb8",
   "metadata": {},
   "outputs": [
    {
     "name": "stdout",
     "output_type": "stream",
     "text": [
      "Shape of training feature: (223856, 17)\n",
      "Shape of testing feature: (95939, 17)\n",
      "Shape of training label: (223856,)\n",
      "Shape of training label: (95939,)\n"
     ]
    }
   ],
   "source": [
    "print('Shape of training feature:', X_train.shape)\n",
    "print('Shape of testing feature:', X_test.shape)\n",
    "print('Shape of training label:', y_train.shape)\n",
    "print('Shape of training label:', y_test.shape)"
   ]
  },
  {
   "cell_type": "markdown",
   "id": "66b0812b",
   "metadata": {},
   "source": [
    "##### Creating a function for predection and evaluation of models"
   ]
  },
  {
   "cell_type": "code",
   "execution_count": 33,
   "id": "a77a93ad",
   "metadata": {},
   "outputs": [],
   "source": [
    "from sklearn import metrics\n",
    "\n",
    "def evaluate_model(model, x_test, y_test):\n",
    "    #Predict test data\n",
    "    y_pred= model.predict(x_test)\n",
    "    \n",
    "    # Calculate accuracy, precision, recall, f1-score and kappa score\n",
    "    acc = metrics.accuracy_score(y_test, y_pred)\n",
    "    prec = metrics.precision_score(y_test, y_pred)\n",
    "    rec = metrics.recall_score(y_test, y_pred)\n",
    "    f1 = metrics.f1_score(y_test, y_pred)\n",
    "    kappa = metrics.cohen_kappa_score(y_test, y_pred)\n",
    "    \n",
    "    # Calculate area under curve (AUC)\n",
    "    y_pred_prob = model.predict_proba(x_test)[::,1]\n",
    "    fpr, tpr, _ = metrics.roc_curve(y_test, y_pred_prob)\n",
    "    auc = metrics.roc_auc_score(y_test, y_pred_prob)\n",
    "    \n",
    "    return {'acc': acc, 'prec': prec, 'rec': rec, 'f1': f1, 'kappa': kappa, 'fpr': fpr, 'tpr': tpr, 'auc': auc}"
   ]
  },
  {
   "cell_type": "markdown",
   "id": "057ae90f",
   "metadata": {},
   "source": [
    "##### Sampling Techniques to deal with Imbalanced Dataset"
   ]
  },
  {
   "cell_type": "markdown",
   "id": "1b1cac31",
   "metadata": {},
   "source": [
    "Undersampling"
   ]
  },
  {
   "cell_type": "code",
   "execution_count": 34,
   "id": "70915600",
   "metadata": {},
   "outputs": [
    {
     "name": "stdout",
     "output_type": "stream",
     "text": [
      "Before undersampling: Counter({0: 292422, 1: 27373})\n",
      "After undersampling: Counter({0: 54746, 1: 27373})\n"
     ]
    }
   ],
   "source": [
    "from imblearn.under_sampling import RandomUnderSampler\n",
    "from collections import Counter\n",
    "\n",
    "under_sampler = RandomUnderSampler(sampling_strategy=0.5)\n",
    "x = df.iloc[:, 1:]\n",
    "y = df['HeartDisease']\n",
    "x_under, y_under = under_sampler.fit_resample(x, y)\n",
    "\n",
    "print('Before undersampling:', Counter(df[\"HeartDisease\"]))\n",
    "print('After undersampling:', Counter(y_under))"
   ]
  },
  {
   "cell_type": "code",
   "execution_count": 35,
   "id": "41de6289",
   "metadata": {},
   "outputs": [
    {
     "data": {
      "text/plain": [
       "<AxesSubplot:title={'center':'Undersampling HeartDisease Results'}>"
      ]
     },
     "execution_count": 35,
     "metadata": {},
     "output_type": "execute_result"
    },
    {
     "data": {
      "image/png": "[encoded data removed]",
      "text/plain": [
       "<Figure size 432x288 with 1 Axes>"
      ]
     },
     "metadata": {
      "needs_background": "light"
     },
     "output_type": "display_data"
    }
   ],
   "source": [
    "y_under.value_counts().plot(kind='bar', title='Undersampling HeartDisease Results', color= ['blue','orange'])"
   ]
  },
  {
   "cell_type": "markdown",
   "id": "0460b294",
   "metadata": {},
   "source": [
    "Oversampling"
   ]
  },
  {
   "cell_type": "code",
   "execution_count": 36,
   "id": "347174bf",
   "metadata": {},
   "outputs": [
    {
     "name": "stdout",
     "output_type": "stream",
     "text": [
      "Before oversampling:  Counter({0: 292422, 1: 27373})\n",
      "After oversampling:  Counter({0: 292422, 1: 292422})\n"
     ]
    }
   ],
   "source": [
    "from imblearn.over_sampling import RandomOverSampler\n",
    "from collections import Counter\n",
    "\n",
    "over_sampler = RandomOverSampler(sampling_strategy='minority')\n",
    "x_over, y_over = over_sampler.fit_resample(x, y)\n",
    "\n",
    "print('Before oversampling: ', Counter(df[\"HeartDisease\"]))\n",
    "print('After oversampling: ', Counter(y_over))"
   ]
  },
  {
   "cell_type": "code",
   "execution_count": 37,
   "id": "4713f4dc",
   "metadata": {},
   "outputs": [
    {
     "data": {
      "text/plain": [
       "<AxesSubplot:title={'center':'Oversampling HeartDisease Results'}>"
      ]
     },
     "execution_count": 37,
     "metadata": {},
     "output_type": "execute_result"
    },
    {
     "data": {
      "image/png": "[encoded data removed]",
      "text/plain": [
       "<Figure size 432x288 with 1 Axes>"
      ]
     },
     "metadata": {
      "needs_background": "light"
     },
     "output_type": "display_data"
    }
   ],
   "source": [
    "y_over.value_counts().plot(kind='bar', title='Oversampling HeartDisease Results', color= ['blue','orange'])"
   ]
  },
  {
   "cell_type": "markdown",
   "id": "a7a31dad",
   "metadata": {},
   "source": [
    "SMOTE Oversampling"
   ]
  },
  {
   "cell_type": "code",
   "execution_count": 38,
   "id": "3d519015",
   "metadata": {},
   "outputs": [
    {
     "name": "stdout",
     "output_type": "stream",
     "text": [
      "Before smote sampling: Counter({0: 292422, 1: 27373})\n",
      "After smote sampling: Counter({0: 292422, 1: 292422})\n"
     ]
    }
   ],
   "source": [
    "from imblearn.over_sampling import SMOTE\n",
    "\n",
    "smt = SMOTE()\n",
    "x_smote,y_smote = smt.fit_resample(x,y)\n",
    "\n",
    "print('Before smote sampling:', Counter(df[\"HeartDisease\"]))\n",
    "print('After smote sampling:', Counter(y_smote))"
   ]
  },
  {
   "cell_type": "code",
   "execution_count": 39,
   "id": "ff047477",
   "metadata": {},
   "outputs": [
    {
     "data": {
      "text/plain": [
       "<AxesSubplot:title={'center':'SMOTE Sampling HeartDisease Results'}>"
      ]
     },
     "execution_count": 39,
     "metadata": {},
     "output_type": "execute_result"
    },
    {
     "data": {
      "image/png": "[encoded data removed]",
      "text/plain": [
       "<Figure size 432x288 with 1 Axes>"
      ]
     },
     "metadata": {
      "needs_background": "light"
     },
     "output_type": "display_data"
    }
   ],
   "source": [
    "y_smote.value_counts().plot(kind='bar', title='SMOTE Sampling HeartDisease Results', color= ['blue','orange'])"
   ]
  },
  {
   "cell_type": "markdown",
   "id": "426afd46",
   "metadata": {},
   "source": [
    "##### Building model using k-nearest Neighbors"
   ]
  },
  {
   "cell_type": "code",
   "execution_count": 50,
   "id": "e0a61cff",
   "metadata": {},
   "outputs": [
    {
     "data": {
      "text/plain": [
       "KNeighborsClassifier()"
      ]
     },
     "execution_count": 50,
     "metadata": {},
     "output_type": "execute_result"
    }
   ],
   "source": [
    "from sklearn.neighbors import KNeighborsClassifier\n",
    "\n",
    "knn = KNeighborsClassifier(n_neighbors = 5)\n",
    "knn.fit(X_train, y_train)"
   ]
  },
  {
   "cell_type": "markdown",
   "id": "fd838157",
   "metadata": {},
   "source": [
    "Predicting and evaluating k-nearest neighbors model for original imbalanced dataset"
   ]
  },
  {
   "cell_type": "code",
   "execution_count": 39,
   "id": "99effeb4",
   "metadata": {},
   "outputs": [
    {
     "name": "stdout",
     "output_type": "stream",
     "text": [
      "Accuracy: 0.9068887522279782\n",
      "Precision: 0.33410032213529683\n",
      "Recall: 0.0884072089624939\n",
      "F1 Score: 0.13981704381319213\n",
      "Cohens Kappa Score: 0.10785974142039312\n",
      "Area Under Curve: 0.6889303887384639\n"
     ]
    }
   ],
   "source": [
    "knn_evaluate = evaluate_model(knn, X_test, y_test)\n",
    "print('Accuracy:', knn_evaluate['acc'])\n",
    "print('Precision:', knn_evaluate['prec'])\n",
    "print('Recall:', knn_evaluate['rec'])\n",
    "print('F1 Score:', knn_evaluate['f1'])\n",
    "print('Cohens Kappa Score:', knn_evaluate['kappa'])\n",
    "print('Area Under Curve:', knn_evaluate['auc'])"
   ]
  },
  {
   "cell_type": "markdown",
   "id": "8bb24d85",
   "metadata": {},
   "source": [
    "Predicting and evaluating k-nearest neighbors model for undersampled dataset"
   ]
  },
  {
   "cell_type": "code",
   "execution_count": 40,
   "id": "37d50cd6",
   "metadata": {},
   "outputs": [
    {
     "name": "stdout",
     "output_type": "stream",
     "text": [
      "Accuracy: 0.8261603727368432\n",
      "Precision: 0.28151130380922884\n",
      "Recall: 0.664150024354603\n",
      "F1 Score: 0.39541796563474224\n",
      "Cohens Kappa Score: 0.3127950337553017\n",
      "Area Under Curve: 0.8564702806964957\n"
     ]
    }
   ],
   "source": [
    "#knn = KNeighborsClassifier(n_neighbors = 5)\n",
    "knn.fit(x_under, y_under)\n",
    "\n",
    "knn_evaluate = evaluate_model(knn, X_test, y_test)\n",
    "print('Accuracy:', knn_evaluate['acc'])\n",
    "print('Precision:', knn_evaluate['prec'])\n",
    "print('Recall:', knn_evaluate['rec'])\n",
    "print('F1 Score:', knn_evaluate['f1'])\n",
    "print('Cohens Kappa Score:', knn_evaluate['kappa'])\n",
    "print('Area Under Curve:', knn_evaluate['auc'])"
   ]
  },
  {
   "cell_type": "markdown",
   "id": "9aa72e3a",
   "metadata": {},
   "source": [
    "Predicting and evaluating k-nearest neighbors model for oversampled dataset"
   ]
  },
  {
   "cell_type": "code",
   "execution_count": 41,
   "id": "b45232e0",
   "metadata": {},
   "outputs": [
    {
     "name": "stdout",
     "output_type": "stream",
     "text": [
      "Accuracy: 0.8855001615609919\n",
      "Precision: 0.4276923076923077\n",
      "Recall: 0.9986604968339016\n",
      "F1 Score: 0.5988972870339943\n",
      "Cohens Kappa Score: 0.5442739091830344\n",
      "Area Under Curve: 0.9973332296855413\n"
     ]
    }
   ],
   "source": [
    "#knn = KNeighborsClassifier(n_neighbors = 5)\n",
    "knn.fit(x_over, y_over)\n",
    "\n",
    "knn_evaluate = evaluate_model(knn, X_test, y_test)\n",
    "print('Accuracy:', knn_evaluate['acc'])\n",
    "print('Precision:', knn_evaluate['prec'])\n",
    "print('Recall:', knn_evaluate['rec'])\n",
    "print('F1 Score:', knn_evaluate['f1'])\n",
    "print('Cohens Kappa Score:', knn_evaluate['kappa'])\n",
    "print('Area Under Curve:', knn_evaluate['auc'])"
   ]
  },
  {
   "cell_type": "markdown",
   "id": "757de379",
   "metadata": {},
   "source": [
    "Predicting and evaluating k-nearest neighbors model for SMOTE oversampled dataset"
   ]
  },
  {
   "cell_type": "code",
   "execution_count": 51,
   "id": "19493825",
   "metadata": {},
   "outputs": [
    {
     "name": "stdout",
     "output_type": "stream",
     "text": [
      "Accuracy: 0.8342696922002523\n",
      "Precision: 0.3374355070625053\n",
      "Recall: 0.9716268874817341\n",
      "F1 Score: 0.5009102894092535\n",
      "Cohens Kappa Score: 0.4282630363824448\n",
      "Area Under Curve: 0.9811530638452614\n"
     ]
    }
   ],
   "source": [
    "#knn = KNeighborsClassifier(n_neighbors = 5)\n",
    "knn.fit(x_smote, y_smote)\n",
    "\n",
    "knn_evaluate = evaluate_model(knn, X_test, y_test)\n",
    "print('Accuracy:', knn_evaluate['acc'])\n",
    "print('Precision:', knn_evaluate['prec'])\n",
    "print('Recall:', knn_evaluate['rec'])\n",
    "print('F1 Score:', knn_evaluate['f1'])\n",
    "print('Cohens Kappa Score:', knn_evaluate['kappa'])\n",
    "print('Area Under Curve:', knn_evaluate['auc'])"
   ]
  },
  {
   "cell_type": "markdown",
   "id": "66452034",
   "metadata": {},
   "source": [
    "##### Building model using Decision Tree Model"
   ]
  },
  {
   "cell_type": "code",
   "execution_count": 40,
   "id": "4efa28b4",
   "metadata": {},
   "outputs": [
    {
     "data": {
      "text/plain": [
       "DecisionTreeClassifier(random_state=0)"
      ]
     },
     "execution_count": 40,
     "metadata": {},
     "output_type": "execute_result"
    }
   ],
   "source": [
    "from sklearn import tree\n",
    "\n",
    "clf = tree.DecisionTreeClassifier(random_state=0)\n",
    "clf.fit(X_train, y_train)"
   ]
  },
  {
   "cell_type": "markdown",
   "id": "963c71b3",
   "metadata": {},
   "source": [
    "Predicting and evaluating Decision Tree Classifier for original imbalanced dataset"
   ]
  },
  {
   "cell_type": "code",
   "execution_count": 41,
   "id": "3945242f",
   "metadata": {},
   "outputs": [
    {
     "name": "stdout",
     "output_type": "stream",
     "text": [
      "Accuracy: 0.86325686113051\n",
      "Precision: 0.2296418732782369\n",
      "Recall: 0.25377496346809547\n",
      "F1 Score: 0.24110603343552958\n",
      "Cohens Kappa Score: 0.16617046143584202\n",
      "Area Under Curve: 0.5887118344448228\n"
     ]
    }
   ],
   "source": [
    "clf_evaluate = evaluate_model(clf, X_test, y_test)\n",
    "print('Accuracy:', clf_evaluate['acc'])\n",
    "print('Precision:', clf_evaluate['prec'])\n",
    "print('Recall:', clf_evaluate['rec'])\n",
    "print('F1 Score:', clf_evaluate['f1'])\n",
    "print('Cohens Kappa Score:', clf_evaluate['kappa'])\n",
    "print('Area Under Curve:', clf_evaluate['auc'])"
   ]
  },
  {
   "cell_type": "markdown",
   "id": "58889552",
   "metadata": {},
   "source": [
    "Predicting and evaluating Decision Tree Classifier for undersampled dataset"
   ]
  },
  {
   "cell_type": "code",
   "execution_count": 42,
   "id": "dee63923",
   "metadata": {},
   "outputs": [
    {
     "name": "stdout",
     "output_type": "stream",
     "text": [
      "Accuracy: 0.825482858899926\n",
      "Precision: 0.32791382579578005\n",
      "Recall: 0.9897710667316123\n",
      "F1 Score: 0.49262098851480346\n",
      "Cohens Kappa Score: 0.4177494328777813\n",
      "Area Under Curve: 0.904242899046771\n"
     ]
    }
   ],
   "source": [
    "#clf = tree.DecisionTreeClassifier(random_state=0)\n",
    "clf.fit(x_under, y_under)\n",
    "\n",
    "clf_evaluate = evaluate_model(clf, X_test, y_test)\n",
    "print('Accuracy:', clf_evaluate['acc'])\n",
    "print('Precision:', clf_evaluate['prec'])\n",
    "print('Recall:', clf_evaluate['rec'])\n",
    "print('F1 Score:', clf_evaluate['f1'])\n",
    "print('Cohens Kappa Score:', clf_evaluate['kappa'])\n",
    "print('Area Under Curve:', clf_evaluate['auc'])"
   ]
  },
  {
   "cell_type": "markdown",
   "id": "21ab7551",
   "metadata": {},
   "source": [
    "Predicting and evaluating Decision Tree Classifier for oversampled dataset"
   ]
  },
  {
   "cell_type": "code",
   "execution_count": 43,
   "id": "67602af6",
   "metadata": {},
   "outputs": [
    {
     "name": "stdout",
     "output_type": "stream",
     "text": [
      "Accuracy: 0.9938711055983489\n",
      "Precision: 0.9333788085493406\n",
      "Recall: 0.9997564539698003\n",
      "F1 Score: 0.9654280338664158\n",
      "Cohens Kappa Score: 0.9620698855304475\n",
      "Area Under Curve: 0.9999021875090278\n"
     ]
    }
   ],
   "source": [
    "#clf = tree.DecisionTreeClassifier(random_state=0)\n",
    "clf.fit(x_over, y_over)\n",
    "\n",
    "clf_evaluate = evaluate_model(clf, X_test, y_test)\n",
    "print('Accuracy:', clf_evaluate['acc'])\n",
    "print('Precision:', clf_evaluate['prec'])\n",
    "print('Recall:', clf_evaluate['rec'])\n",
    "print('F1 Score:', clf_evaluate['f1'])\n",
    "print('Cohens Kappa Score:', clf_evaluate['kappa'])\n",
    "print('Area Under Curve:', clf_evaluate['auc'])"
   ]
  },
  {
   "cell_type": "markdown",
   "id": "7203133d",
   "metadata": {},
   "source": [
    "Predicting and evaluating Decision Tree Classifier for SMOTE oversampled dataset"
   ]
  },
  {
   "cell_type": "code",
   "execution_count": 44,
   "id": "866c91e7",
   "metadata": {},
   "outputs": [
    {
     "name": "stdout",
     "output_type": "stream",
     "text": [
      "Accuracy: 0.9960495731662827\n",
      "Precision: 0.9857373186158997\n",
      "Recall: 0.9678519240136386\n",
      "F1 Score: 0.9767127496159755\n",
      "Cohens Kappa Score: 0.9745546698018548\n",
      "Area Under Curve: 0.9998892262140047\n"
     ]
    }
   ],
   "source": [
    "#clf = tree.DecisionTreeClassifier(random_state=0)\n",
    "clf.fit(x_smote, y_smote)\n",
    "\n",
    "clf_evaluate = evaluate_model(clf, X_test, y_test)\n",
    "print('Accuracy:', clf_evaluate['acc'])\n",
    "print('Precision:', clf_evaluate['prec'])\n",
    "print('Recall:', clf_evaluate['rec'])\n",
    "print('F1 Score:', clf_evaluate['f1'])\n",
    "print('Cohens Kappa Score:', clf_evaluate['kappa'])\n",
    "print('Area Under Curve:', clf_evaluate['auc'])"
   ]
  },
  {
   "cell_type": "markdown",
   "id": "6a300152",
   "metadata": {},
   "source": [
    "##### Building model using Naive Bayes Classifier"
   ]
  },
  {
   "cell_type": "code",
   "execution_count": 42,
   "id": "444a2f7e",
   "metadata": {},
   "outputs": [
    {
     "data": {
      "text/plain": [
       "GaussianNB()"
      ]
     },
     "execution_count": 42,
     "metadata": {},
     "output_type": "execute_result"
    }
   ],
   "source": [
    "from sklearn.naive_bayes import GaussianNB\n",
    "\n",
    "gnb = GaussianNB()\n",
    "gnb.fit(X_train, y_train)"
   ]
  },
  {
   "cell_type": "markdown",
   "id": "1e73f321",
   "metadata": {},
   "source": [
    "Predicting and evaluating Naive Bayes Classifier for original imbalanced dataset"
   ]
  },
  {
   "cell_type": "code",
   "execution_count": 48,
   "id": "0ed229d1",
   "metadata": {},
   "outputs": [
    {
     "name": "stdout",
     "output_type": "stream",
     "text": [
      "Accuracy: 0.8476323497222193\n",
      "Precision: 0.2722230123737733\n",
      "Recall: 0.4661471018022406\n",
      "F1 Score: 0.34371913441680885\n",
      "Cohens Kappa Score: 0.26419573677335906\n",
      "Area Under Curve: 0.8035145761523133\n"
     ]
    }
   ],
   "source": [
    "gnb_evaluate = evaluate_model(gnb, X_test, y_test)\n",
    "print('Accuracy:', gnb_evaluate['acc'])\n",
    "print('Precision:', gnb_evaluate['prec'])\n",
    "print('Recall:', gnb_evaluate['rec'])\n",
    "print('F1 Score:', gnb_evaluate['f1'])\n",
    "print('Cohens Kappa Score:', gnb_evaluate['kappa'])\n",
    "print('Area Under Curve:', gnb_evaluate['auc'])"
   ]
  },
  {
   "cell_type": "markdown",
   "id": "38149303",
   "metadata": {},
   "source": [
    "Predicting and evaluating Naive Bayes Classifier for undersampled dataset"
   ]
  },
  {
   "cell_type": "code",
   "execution_count": 49,
   "id": "e6bc40ee",
   "metadata": {},
   "outputs": [
    {
     "name": "stdout",
     "output_type": "stream",
     "text": [
      "Accuracy: 0.8186868739511565\n",
      "Precision: 0.2472615181372819\n",
      "Recall: 0.5470043838285436\n",
      "F1 Score: 0.3405739413927746\n",
      "Cohens Kappa Score: 0.25243735422508207\n",
      "Area Under Curve: 0.8035620696686951\n"
     ]
    }
   ],
   "source": [
    "#gnb = GaussianNB()\n",
    "gnb.fit(x_under, y_under)\n",
    "\n",
    "gnb_evaluate = evaluate_model(gnb, X_test, y_test)\n",
    "print('Accuracy:', gnb_evaluate['acc'])\n",
    "print('Precision:', gnb_evaluate['prec'])\n",
    "print('Recall:', gnb_evaluate['rec'])\n",
    "print('F1 Score:', gnb_evaluate['f1'])\n",
    "print('Cohens Kappa Score:', gnb_evaluate['kappa'])\n",
    "print('Area Under Curve:', gnb_evaluate['auc'])"
   ]
  },
  {
   "cell_type": "markdown",
   "id": "29c6c04b",
   "metadata": {},
   "source": [
    "Predicting and evaluating Naive Bayes Classifier for oversampled dataset"
   ]
  },
  {
   "cell_type": "code",
   "execution_count": 50,
   "id": "97c2cbdd",
   "metadata": {},
   "outputs": [
    {
     "name": "stdout",
     "output_type": "stream",
     "text": [
      "Accuracy: 0.7967771187942339\n",
      "Precision: 0.23284882344585958\n",
      "Recall: 0.5988796882610814\n",
      "F1 Score: 0.335321992295367\n",
      "Cohens Kappa Score: 0.24187077034957627\n",
      "Area Under Curve: 0.8033083628160516\n"
     ]
    }
   ],
   "source": [
    "#gnb = GaussianNB()\n",
    "gnb.fit(x_over, y_over)\n",
    "\n",
    "gnb_evaluate = evaluate_model(gnb, X_test, y_test)\n",
    "print('Accuracy:', gnb_evaluate['acc'])\n",
    "print('Precision:', gnb_evaluate['prec'])\n",
    "print('Recall:', gnb_evaluate['rec'])\n",
    "print('F1 Score:', gnb_evaluate['f1'])\n",
    "print('Cohens Kappa Score:', gnb_evaluate['kappa'])\n",
    "print('Area Under Curve:', gnb_evaluate['auc'])"
   ]
  },
  {
   "cell_type": "markdown",
   "id": "740b45c7",
   "metadata": {},
   "source": [
    "Predicting and evaluating Naive Bayes Classifier for SMOTE oversampled dataset"
   ]
  },
  {
   "cell_type": "code",
   "execution_count": 43,
   "id": "3e372ce2",
   "metadata": {},
   "outputs": [
    {
     "name": "stdout",
     "output_type": "stream",
     "text": [
      "Accuracy: 0.7157360406091371\n",
      "Precision: 0.1901820546163849\n",
      "Recall: 0.7123721383341451\n",
      "F1 Score: 0.30021553936159295\n",
      "Cohens Kappa Score: 0.1908890318257459\n",
      "Area Under Curve: 0.7749917518274531\n"
     ]
    }
   ],
   "source": [
    "#gnb = GaussianNB()\n",
    "gnb.fit(x_smote, y_smote)\n",
    "\n",
    "gnb_evaluate = evaluate_model(gnb, X_test, y_test)\n",
    "print('Accuracy:', gnb_evaluate['acc'])\n",
    "print('Precision:', gnb_evaluate['prec'])\n",
    "print('Recall:', gnb_evaluate['rec'])\n",
    "print('F1 Score:', gnb_evaluate['f1'])\n",
    "print('Cohens Kappa Score:', gnb_evaluate['kappa'])\n",
    "print('Area Under Curve:', gnb_evaluate['auc'])"
   ]
  },
  {
   "cell_type": "markdown",
   "id": "b69bcc34",
   "metadata": {},
   "source": [
    "##### Building model using Logistic Regression"
   ]
  },
  {
   "cell_type": "code",
   "execution_count": 44,
   "id": "cc987fbd",
   "metadata": {},
   "outputs": [
    {
     "data": {
      "text/plain": [
       "LogisticRegression(max_iter=1000, random_state=0)"
      ]
     },
     "execution_count": 44,
     "metadata": {},
     "output_type": "execute_result"
    }
   ],
   "source": [
    "from sklearn.linear_model import LogisticRegression\n",
    "\n",
    "log = LogisticRegression(random_state=0, max_iter=1000)\n",
    "log.fit(X_train, y_train)"
   ]
  },
  {
   "cell_type": "markdown",
   "id": "f1be4159",
   "metadata": {},
   "source": [
    "Predicting and evaluating Logistic Regression Classifier for original imbalanced dataset"
   ]
  },
  {
   "cell_type": "code",
   "execution_count": 58,
   "id": "b8196391",
   "metadata": {},
   "outputs": [
    {
     "name": "stdout",
     "output_type": "stream",
     "text": [
      "Accuracy: 0.9146124099688344\n",
      "Precision: 0.5065616797900262\n",
      "Recall: 0.09400876765708718\n",
      "F1 Score: 0.15858668857847164\n",
      "Cohens Kappa Score: 0.135418389836798\n",
      "Area Under Curve: 0.8293478446571932\n"
     ]
    }
   ],
   "source": [
    "log_evaluate = evaluate_model(log, X_test, y_test)\n",
    "print('Accuracy:', log_evaluate['acc'])\n",
    "print('Precision:', log_evaluate['prec'])\n",
    "print('Recall:', log_evaluate['rec'])\n",
    "print('F1 Score:', log_evaluate['f1'])\n",
    "print('Cohens Kappa Score:', log_evaluate['kappa'])\n",
    "print('Area Under Curve:', log_evaluate['auc'])"
   ]
  },
  {
   "cell_type": "markdown",
   "id": "101bcb96",
   "metadata": {},
   "source": [
    "Predicting and evaluating Logistic Regression Classifier for undersampled dataset"
   ]
  },
  {
   "cell_type": "code",
   "execution_count": 59,
   "id": "0e62b154",
   "metadata": {},
   "outputs": [
    {
     "name": "stdout",
     "output_type": "stream",
     "text": [
      "Accuracy: 0.8472049948404715\n",
      "Precision: 0.2911835201140118\n",
      "Recall: 0.5473697028738431\n",
      "F1 Score: 0.3801429235908495\n",
      "Cohens Kappa Score: 0.30216197734660866\n",
      "Area Under Curve: 0.8295287558798612\n"
     ]
    }
   ],
   "source": [
    "#log = LogisticRegression(random_state=0, max_iter=1000)\n",
    "log.fit(x_under, y_under)\n",
    "\n",
    "log_evaluate = evaluate_model(log, X_test, y_test)\n",
    "print('Accuracy:', log_evaluate['acc'])\n",
    "print('Precision:', log_evaluate['prec'])\n",
    "print('Recall:', log_evaluate['rec'])\n",
    "print('F1 Score:', log_evaluate['f1'])\n",
    "print('Cohens Kappa Score:', log_evaluate['kappa'])\n",
    "print('Area Under Curve:', log_evaluate['auc'])"
   ]
  },
  {
   "cell_type": "markdown",
   "id": "3539e053",
   "metadata": {},
   "source": [
    "Predicting and evaluating Logistic Regression Classifier for oversampled dataset"
   ]
  },
  {
   "cell_type": "code",
   "execution_count": 60,
   "id": "fb084239",
   "metadata": {},
   "outputs": [
    {
     "name": "stdout",
     "output_type": "stream",
     "text": [
      "Accuracy: 0.7413981800936011\n",
      "Precision: 0.2159044228399288\n",
      "Recall: 0.7680224062347784\n",
      "F1 Score: 0.33705643437366395\n",
      "Cohens Kappa Score: 0.23480566550651905\n",
      "Area Under Curve: 0.8297664594371555\n"
     ]
    }
   ],
   "source": [
    "#log = LogisticRegression(random_state=0, max_iter=1000)\n",
    "log.fit(x_over, y_over)\n",
    "\n",
    "log_evaluate = evaluate_model(log, X_test, y_test)\n",
    "print('Accuracy:', log_evaluate['acc'])\n",
    "print('Precision:', log_evaluate['prec'])\n",
    "print('Recall:', log_evaluate['rec'])\n",
    "print('F1 Score:', log_evaluate['f1'])\n",
    "print('Cohens Kappa Score:', log_evaluate['kappa'])\n",
    "print('Area Under Curve:', log_evaluate['auc'])"
   ]
  },
  {
   "cell_type": "markdown",
   "id": "4a4bda10",
   "metadata": {},
   "source": [
    "Predicting and evaluating Logistic Regression Classifier for SMOTE oversampled dataset"
   ]
  },
  {
   "cell_type": "code",
   "execution_count": 45,
   "id": "242265a9",
   "metadata": {},
   "outputs": [
    {
     "name": "stdout",
     "output_type": "stream",
     "text": [
      "Accuracy: 0.7036033312834197\n",
      "Precision: 0.18409871915026554\n",
      "Recall: 0.7176083779834389\n",
      "F1 Score: 0.2930237183630849\n",
      "Cohens Kappa Score: 0.1815127224204025\n",
      "Area Under Curve: 0.7724960553383043\n"
     ]
    }
   ],
   "source": [
    "#log = LogisticRegression(random_state=0, max_iter=1000)\n",
    "log.fit(x_smote, y_smote)\n",
    "\n",
    "log_evaluate = evaluate_model(log, X_test, y_test)\n",
    "print('Accuracy:', log_evaluate['acc'])\n",
    "print('Precision:', log_evaluate['prec'])\n",
    "print('Recall:', log_evaluate['rec'])\n",
    "print('F1 Score:', log_evaluate['f1'])\n",
    "print('Cohens Kappa Score:', log_evaluate['kappa'])\n",
    "print('Area Under Curve:', log_evaluate['auc'])"
   ]
  },
  {
   "cell_type": "markdown",
   "id": "4ae4f558",
   "metadata": {},
   "source": [
    "##### Building model using Linear Support Vector Classifier"
   ]
  },
  {
   "cell_type": "code",
   "execution_count": null,
   "id": "afc0478a",
   "metadata": {},
   "outputs": [],
   "source": [
    "from sklearn.svm import SVC\n",
    "\n",
    "svc = SVC(kernel=\"linear\")\n",
    "svc.fit(X_train, y_train)"
   ]
  },
  {
   "cell_type": "markdown",
   "id": "4a802c60",
   "metadata": {},
   "source": [
    "Predicting and evaluating Linear Support Vector Classifier for original imbalanced dataset"
   ]
  },
  {
   "cell_type": "code",
   "execution_count": 71,
   "id": "b58e7498",
   "metadata": {},
   "outputs": [
    {
     "ename": "NameError",
     "evalue": "name 'svc' is not defined",
     "output_type": "error",
     "traceback": [
      "\u001b[0;31m---------------------------------------------------------------------------\u001b[0m",
      "\u001b[0;31mNameError\u001b[0m                                 Traceback (most recent call last)",
      "\u001b[0;32m/var/folders/cw/nqgkxwg534v2c9gjt33zrz040000gn/T/ipykernel_51354/440105450.py\u001b[0m in \u001b[0;36m<module>\u001b[0;34m\u001b[0m\n\u001b[0;32m----> 1\u001b[0;31m \u001b[0msvc_evaluate\u001b[0m \u001b[0;34m=\u001b[0m \u001b[0mevaluate_model\u001b[0m\u001b[0;34m(\u001b[0m\u001b[0msvc\u001b[0m\u001b[0;34m,\u001b[0m \u001b[0mX_test\u001b[0m\u001b[0;34m,\u001b[0m \u001b[0my_test\u001b[0m\u001b[0;34m)\u001b[0m\u001b[0;34m\u001b[0m\u001b[0;34m\u001b[0m\u001b[0m\n\u001b[0m\u001b[1;32m      2\u001b[0m \u001b[0mprint\u001b[0m\u001b[0;34m(\u001b[0m\u001b[0;34m'Accuracy:'\u001b[0m\u001b[0;34m,\u001b[0m \u001b[0msvc_evaluate\u001b[0m\u001b[0;34m[\u001b[0m\u001b[0;34m'acc'\u001b[0m\u001b[0;34m]\u001b[0m\u001b[0;34m)\u001b[0m\u001b[0;34m\u001b[0m\u001b[0;34m\u001b[0m\u001b[0m\n\u001b[1;32m      3\u001b[0m \u001b[0mprint\u001b[0m\u001b[0;34m(\u001b[0m\u001b[0;34m'Precision:'\u001b[0m\u001b[0;34m,\u001b[0m \u001b[0msvc_evaluate\u001b[0m\u001b[0;34m[\u001b[0m\u001b[0;34m'prec'\u001b[0m\u001b[0;34m]\u001b[0m\u001b[0;34m)\u001b[0m\u001b[0;34m\u001b[0m\u001b[0;34m\u001b[0m\u001b[0m\n\u001b[1;32m      4\u001b[0m \u001b[0mprint\u001b[0m\u001b[0;34m(\u001b[0m\u001b[0;34m'Recall:'\u001b[0m\u001b[0;34m,\u001b[0m \u001b[0msvc_evaluate\u001b[0m\u001b[0;34m[\u001b[0m\u001b[0;34m'rec'\u001b[0m\u001b[0;34m]\u001b[0m\u001b[0;34m)\u001b[0m\u001b[0;34m\u001b[0m\u001b[0;34m\u001b[0m\u001b[0m\n\u001b[1;32m      5\u001b[0m \u001b[0mprint\u001b[0m\u001b[0;34m(\u001b[0m\u001b[0;34m'F1 Score:'\u001b[0m\u001b[0;34m,\u001b[0m \u001b[0msvc_evaluate\u001b[0m\u001b[0;34m[\u001b[0m\u001b[0;34m'f1'\u001b[0m\u001b[0;34m]\u001b[0m\u001b[0;34m)\u001b[0m\u001b[0;34m\u001b[0m\u001b[0;34m\u001b[0m\u001b[0m\n",
      "\u001b[0;31mNameError\u001b[0m: name 'svc' is not defined"
     ]
    }
   ],
   "source": [
    "# svc_evaluate = evaluate_model(svc, X_test, y_test)\n",
    "# print('Accuracy:', svc_evaluate['acc'])\n",
    "# print('Precision:', svc_evaluate['prec'])\n",
    "# print('Recall:', svc_evaluate['rec'])\n",
    "# print('F1 Score:', svc_evaluate['f1'])\n",
    "# print('Cohens Kappa Score:', svc_evaluate['kappa'])\n",
    "# print('Area Under Curve:', svc_evaluate['auc'])"
   ]
  },
  {
   "cell_type": "markdown",
   "id": "670ff2cc",
   "metadata": {},
   "source": [
    "Predicting and evaluating Linear Support Vector Classifier for undersampled dataset"
   ]
  },
  {
   "cell_type": "code",
   "execution_count": null,
   "id": "9fc60da7",
   "metadata": {},
   "outputs": [],
   "source": [
    "# #svc = SVC(kernel='rbf')\n",
    "# svc.fit(x_under, y_under)\n",
    "\n",
    "# svc_evaluate = evaluate_model(svc, X_test, y_test)\n",
    "# print('Accuracy:', svc_evaluate['acc'])\n",
    "# print('Precision:', svc_evaluate['prec'])\n",
    "# print('Recall:', svc_evaluate['rec'])\n",
    "# print('F1 Score:', svc_evaluate['f1'])\n",
    "# print('Cohens Kappa Score:', svc_evaluate['kappa'])\n",
    "# print('Area Under Curve:', svc_evaluate['auc'])"
   ]
  },
  {
   "cell_type": "markdown",
   "id": "7d09bb70",
   "metadata": {},
   "source": [
    "Predicting and evaluating Linear Support Vector Classifier for oversampled dataset"
   ]
  },
  {
   "cell_type": "code",
   "execution_count": null,
   "id": "ae133825",
   "metadata": {},
   "outputs": [],
   "source": [
    "# #svc = SVC(kernel='rbf')\n",
    "# svc.fit(x_over, y_over)\n",
    "\n",
    "# svc_evaluate = evaluate_model(svc, X_test, y_test)\n",
    "# print('Accuracy:', svc_evaluate['acc'])\n",
    "# print('Precision:', svc_evaluate['prec'])\n",
    "# print('Recall:', svc_evaluate['rec'])\n",
    "# print('F1 Score:', svc_evaluate['f1'])\n",
    "# print('Cohens Kappa Score:', svc_evaluate['kappa'])\n",
    "# print('Area Under Curve:', svc_evaluate['auc'])"
   ]
  },
  {
   "cell_type": "markdown",
   "id": "e5684c8a",
   "metadata": {},
   "source": [
    "Predicting and evaluating Linear Support Vector Classifier for SMOTE oversampled dataset"
   ]
  },
  {
   "cell_type": "code",
   "execution_count": null,
   "id": "d89fad78",
   "metadata": {},
   "outputs": [],
   "source": [
    "# #svc = SVC(kernel='rbf')\n",
    "# svc.fit(x_smote, y_smote)\n",
    "\n",
    "# svc_evaluate = evaluate_model(svc, X_test, y_test)\n",
    "# print('Accuracy:', svc_evaluate['acc'])\n",
    "# print('Precision:', svc_evaluate['prec'])\n",
    "# print('Recall:', svc_evaluate['rec'])\n",
    "# print('F1 Score:', svc_evaluate['f1'])\n",
    "# print('Cohens Kappa Score:', svc_evaluate['kappa'])\n",
    "# print('Area Under Curve:', svc_evaluate['auc'])"
   ]
  },
  {
   "cell_type": "markdown",
   "id": "ed0543cf",
   "metadata": {},
   "source": [
    "##### Building model using Random Forest  -- Bagging Technique"
   ]
  },
  {
   "cell_type": "code",
   "execution_count": 40,
   "id": "b31700ad",
   "metadata": {},
   "outputs": [
    {
     "data": {
      "text/plain": [
       "RandomForestClassifier()"
      ]
     },
     "execution_count": 40,
     "metadata": {},
     "output_type": "execute_result"
    }
   ],
   "source": [
    "from sklearn.ensemble import RandomForestClassifier\n",
    "\n",
    "rf_clf = RandomForestClassifier(n_estimators = 100)\n",
    "rf_clf.fit(X_train, y_train)"
   ]
  },
  {
   "cell_type": "markdown",
   "id": "c8b6b3dd",
   "metadata": {},
   "source": [
    "Predicting and evaluating Random Forest Classifier for original imbalanced dataset"
   ]
  },
  {
   "cell_type": "code",
   "execution_count": 41,
   "id": "50c27b3f",
   "metadata": {},
   "outputs": [
    {
     "name": "stdout",
     "output_type": "stream",
     "text": [
      "Accuracy: 0.9066802864320037\n",
      "Precision: 0.35600466381655654\n",
      "Recall: 0.11154408183146615\n",
      "F1 Score: 0.16986555401019934\n",
      "Cohens Kappa Score: 0.13451782527922962\n",
      "Area Under Curve: 0.7968831292652445\n"
     ]
    }
   ],
   "source": [
    "rf_clf_evaluate = evaluate_model(rf_clf, X_test, y_test)\n",
    "print('Accuracy:', rf_clf_evaluate['acc'])\n",
    "print('Precision:', rf_clf_evaluate['prec'])\n",
    "print('Recall:', rf_clf_evaluate['rec'])\n",
    "print('F1 Score:', rf_clf_evaluate['f1'])\n",
    "print('Cohens Kappa Score:', rf_clf_evaluate['kappa'])\n",
    "print('Area Under Curve:', rf_clf_evaluate['auc'])"
   ]
  },
  {
   "cell_type": "markdown",
   "id": "88730f98",
   "metadata": {},
   "source": [
    "Predicting and evaluating Random Forest Classifier for undersampled dataset"
   ]
  },
  {
   "cell_type": "code",
   "execution_count": 42,
   "id": "678503f7",
   "metadata": {},
   "outputs": [
    {
     "name": "stdout",
     "output_type": "stream",
     "text": [
      "Accuracy: 0.8706157037284108\n",
      "Precision: 0.397571560930414\n",
      "Recall: 0.9928153921091086\n",
      "F1 Score: 0.5677774295762387\n",
      "Cohens Kappa Score: 0.507584057734124\n",
      "Area Under Curve: 0.9760700950665981\n"
     ]
    }
   ],
   "source": [
    "#rf_clf = RandomForestClassifier(n_estimators = 100)\n",
    "rf_clf.fit(x_under, y_under)\n",
    "\n",
    "rf_clf_evaluate = evaluate_model(rf_clf, X_test, y_test)\n",
    "print('Accuracy:', rf_clf_evaluate['acc'])\n",
    "print('Precision:', rf_clf_evaluate['prec'])\n",
    "print('Recall:', rf_clf_evaluate['rec'])\n",
    "print('F1 Score:', rf_clf_evaluate['f1'])\n",
    "print('Cohens Kappa Score:', rf_clf_evaluate['kappa'])\n",
    "print('Area Under Curve:', rf_clf_evaluate['auc'])"
   ]
  },
  {
   "cell_type": "markdown",
   "id": "2ad9fb05",
   "metadata": {},
   "source": [
    "Predicting and evaluating Random Forest Classifier for oversampled dataset"
   ]
  },
  {
   "cell_type": "code",
   "execution_count": 43,
   "id": "28e35a6a",
   "metadata": {},
   "outputs": [
    {
     "name": "stdout",
     "output_type": "stream",
     "text": [
      "Accuracy: 0.9938606823085502\n",
      "Precision: 0.933371233655486\n",
      "Recall: 0.9996346809547004\n",
      "F1 Score: 0.9653672017404599\n",
      "Cohens Kappa Score: 0.9620033470834831\n",
      "Area Under Curve: 0.9998999270036522\n"
     ]
    }
   ],
   "source": [
    "#rf_clf = RandomForestClassifier(n_estimators = 100)\n",
    "rf_clf.fit(x_over, y_over)\n",
    "\n",
    "rf_clf_evaluate = evaluate_model(rf_clf, X_test, y_test)\n",
    "print('Accuracy:', rf_clf_evaluate['acc'])\n",
    "print('Precision:', rf_clf_evaluate['prec'])\n",
    "print('Recall:', rf_clf_evaluate['rec'])\n",
    "print('F1 Score:', rf_clf_evaluate['f1'])\n",
    "print('Cohens Kappa Score:', rf_clf_evaluate['kappa'])\n",
    "print('Area Under Curve:', rf_clf_evaluate['auc'])"
   ]
  },
  {
   "cell_type": "markdown",
   "id": "15e297e1",
   "metadata": {},
   "source": [
    "Predicting and evaluating Random Forest Classifier for SMOTE oversampled dataset"
   ]
  },
  {
   "cell_type": "code",
   "execution_count": 44,
   "id": "a508426c",
   "metadata": {},
   "outputs": [
    {
     "name": "stdout",
     "output_type": "stream",
     "text": [
      "Accuracy: 0.9957681443417171\n",
      "Precision: 0.9691105769230769\n",
      "Recall: 0.9818558207501218\n",
      "F1 Score: 0.9754415678683764\n",
      "Cohens Kappa Score: 0.9731262539206588\n",
      "Area Under Curve: 0.9992420179146849\n"
     ]
    }
   ],
   "source": [
    "#rf_clf = RandomForestClassifier(n_estimators = 100)\n",
    "rf_clf.fit(x_smote, y_smote)\n",
    "\n",
    "rf_clf_evaluate = evaluate_model(rf_clf, X_test, y_test)\n",
    "print('Accuracy:', rf_clf_evaluate['acc'])\n",
    "print('Precision:', rf_clf_evaluate['prec'])\n",
    "print('Recall:', rf_clf_evaluate['rec'])\n",
    "print('F1 Score:', rf_clf_evaluate['f1'])\n",
    "print('Cohens Kappa Score:', rf_clf_evaluate['kappa'])\n",
    "print('Area Under Curve:', rf_clf_evaluate['auc'])"
   ]
  },
  {
   "cell_type": "markdown",
   "id": "11406fd6",
   "metadata": {},
   "source": [
    "##### Building model using XGBoost  -- Boosting Technique"
   ]
  },
  {
   "cell_type": "code",
   "execution_count": 48,
   "id": "84306112",
   "metadata": {},
   "outputs": [
    {
     "data": {
      "text/plain": [
       "XGBClassifier(base_score=0.5, booster='gbtree', callbacks=None,\n",
       "              colsample_bylevel=1, colsample_bynode=1, colsample_bytree=1,\n",
       "              early_stopping_rounds=None, enable_categorical=False,\n",
       "              eval_metric=None, gamma=0, gpu_id=-1, grow_policy='depthwise',\n",
       "              importance_type=None, interaction_constraints='',\n",
       "              learning_rate=0.300000012, max_bin=256, max_cat_to_onehot=4,\n",
       "              max_delta_step=0, max_depth=6, max_leaves=0, min_child_weight=1,\n",
       "              missing=nan, monotone_constraints='()', n_estimators=100,\n",
       "              n_jobs=0, num_parallel_tree=1, predictor='auto', random_state=0,\n",
       "              reg_alpha=0, reg_lambda=1, ...)"
      ]
     },
     "execution_count": 48,
     "metadata": {},
     "output_type": "execute_result"
    }
   ],
   "source": [
    "import xgboost as xgb\n",
    "\n",
    "xgb_clf = xgb.XGBClassifier()\n",
    "xgb_clf.fit(X_train, y_train)"
   ]
  },
  {
   "cell_type": "markdown",
   "id": "7fd66820",
   "metadata": {},
   "source": [
    "Predicting and evaluating XGBoost Classifier for original imbalanced dataset"
   ]
  },
  {
   "cell_type": "code",
   "execution_count": 68,
   "id": "6ebb6081",
   "metadata": {},
   "outputs": [
    {
     "name": "stdout",
     "output_type": "stream",
     "text": [
      "Accuracy: 0.9151752676179656\n",
      "Precision: 0.5243421052631579\n",
      "Recall: 0.09705309303458354\n",
      "F1 Score: 0.1637895602137279\n",
      "Cohens Kappa Score: 0.1408169177407118\n",
      "Area Under Curve: 0.8417468846016127\n"
     ]
    }
   ],
   "source": [
    "xgb_clf_evaluate = evaluate_model(xgb_clf, X_test, y_test)\n",
    "print('Accuracy:', xgb_clf_evaluate['acc'])\n",
    "print('Precision:', xgb_clf_evaluate['prec'])\n",
    "print('Recall:', xgb_clf_evaluate['rec'])\n",
    "print('F1 Score:', xgb_clf_evaluate['f1'])\n",
    "print('Cohens Kappa Score:', xgb_clf_evaluate['kappa'])\n",
    "print('Area Under Curve:', xgb_clf_evaluate['auc'])"
   ]
  },
  {
   "cell_type": "markdown",
   "id": "39b3b06d",
   "metadata": {},
   "source": [
    "Predicting and evaluating XGBoost Classifier for undersampled dataset"
   ]
  },
  {
   "cell_type": "code",
   "execution_count": 69,
   "id": "af01fc99",
   "metadata": {},
   "outputs": [
    {
     "name": "stdout",
     "output_type": "stream",
     "text": [
      "Accuracy: 0.8415243019001657\n",
      "Precision: 0.3039699450487832\n",
      "Recall: 0.6601315148563078\n",
      "F1 Score: 0.41626353374798436\n",
      "Cohens Kappa Score: 0.33875411957187895\n",
      "Area Under Curve: 0.8638046246855648\n"
     ]
    }
   ],
   "source": [
    "#xgb_clf = xgb.XGBClassifier()\n",
    "xgb_clf.fit(x_under, y_under)\n",
    "\n",
    "xgb_clf_evaluate = evaluate_model(xgb_clf, X_test, y_test)\n",
    "print('Accuracy:', xgb_clf_evaluate['acc'])\n",
    "print('Precision:', xgb_clf_evaluate['prec'])\n",
    "print('Recall:', xgb_clf_evaluate['rec'])\n",
    "print('F1 Score:', xgb_clf_evaluate['f1'])\n",
    "print('Cohens Kappa Score:', xgb_clf_evaluate['kappa'])\n",
    "print('Area Under Curve:', xgb_clf_evaluate['auc'])"
   ]
  },
  {
   "cell_type": "markdown",
   "id": "ddbeff5a",
   "metadata": {},
   "source": [
    "Predicting and evaluating XGBoost Classifier for oversampled dataset"
   ]
  },
  {
   "cell_type": "code",
   "execution_count": 70,
   "id": "6c77aa7f",
   "metadata": {},
   "outputs": [
    {
     "name": "stdout",
     "output_type": "stream",
     "text": [
      "Accuracy: 0.752790835843609\n",
      "Precision: 0.23483941580873552\n",
      "Recall: 0.8360935216755967\n",
      "F1 Score: 0.3666853587545729\n",
      "Cohens Kappa Score: 0.26898332212043485\n",
      "Area Under Curve: 0.8703531970175531\n"
     ]
    }
   ],
   "source": [
    "#xgb_clf = xgb.XGBClassifier()\n",
    "xgb_clf.fit(x_over, y_over)\n",
    "\n",
    "xgb_clf_evaluate = evaluate_model(xgb_clf, X_test, y_test)\n",
    "print('Accuracy:', xgb_clf_evaluate['acc'])\n",
    "print('Precision:', xgb_clf_evaluate['prec'])\n",
    "print('Recall:', xgb_clf_evaluate['rec'])\n",
    "print('F1 Score:', xgb_clf_evaluate['f1'])\n",
    "print('Cohens Kappa Score:', xgb_clf_evaluate['kappa'])\n",
    "print('Area Under Curve:', xgb_clf_evaluate['auc'])"
   ]
  },
  {
   "cell_type": "markdown",
   "id": "d597ff48",
   "metadata": {},
   "source": [
    "Predicting and evaluating XGBoost Classifier for SMOTE oversampled dataset"
   ]
  },
  {
   "cell_type": "code",
   "execution_count": 49,
   "id": "47ee1d26",
   "metadata": {},
   "outputs": [
    {
     "name": "stdout",
     "output_type": "stream",
     "text": [
      "Accuracy: 0.8444636696234066\n",
      "Precision: 0.2673047579414621\n",
      "Recall: 0.4693132001948368\n",
      "F1 Score: 0.34060980998674334\n",
      "Cohens Kappa Score: 0.25988575294945016\n",
      "Area Under Curve: 0.8079860140276761\n"
     ]
    }
   ],
   "source": [
    "#xgb_clf = xgb.XGBClassifier()\n",
    "xgb_clf.fit(x_smote, y_smote)\n",
    "\n",
    "xgb_clf_evaluate = evaluate_model(xgb_clf, X_test, y_test)\n",
    "print('Accuracy:', xgb_clf_evaluate['acc'])\n",
    "print('Precision:', xgb_clf_evaluate['prec'])\n",
    "print('Recall:', xgb_clf_evaluate['rec'])\n",
    "print('F1 Score:', xgb_clf_evaluate['f1'])\n",
    "print('Cohens Kappa Score:', xgb_clf_evaluate['kappa'])\n",
    "print('Area Under Curve:', xgb_clf_evaluate['auc'])"
   ]
  },
  {
   "cell_type": "markdown",
   "id": "0e7e50a9",
   "metadata": {},
   "source": [
    "Random Forest and Decison Tree algorithms give the best performance as per recall"
   ]
  },
  {
   "cell_type": "markdown",
   "id": "0ed528ee",
   "metadata": {},
   "source": [
    "##### Hyperparameter tuning on our best performing models - Random Forest and Decision Tree"
   ]
  },
  {
   "cell_type": "markdown",
   "id": "93bcd004",
   "metadata": {},
   "source": [
    "##### Decision Tree"
   ]
  },
  {
   "cell_type": "code",
   "execution_count": 42,
   "id": "85d510e8",
   "metadata": {},
   "outputs": [],
   "source": [
    "from sklearn.model_selection import GridSearchCV"
   ]
  },
  {
   "cell_type": "code",
   "execution_count": 44,
   "id": "2d5f7a5b",
   "metadata": {},
   "outputs": [],
   "source": [
    "params = {\n",
    "    'max_depth': [2, 3, 5, 10, 20],\n",
    "    'min_samples_leaf': [5, 10, 20, 50, 100],\n",
    "    'criterion': [\"gini\", \"entropy\"]\n",
    "}"
   ]
  },
  {
   "cell_type": "code",
   "execution_count": 47,
   "id": "8b8c2962",
   "metadata": {},
   "outputs": [],
   "source": [
    "grid_search = GridSearchCV(estimator=clf, \n",
    "                           param_grid=params, \n",
    "                           cv=4, n_jobs=-1, verbose=1, scoring = \"recall\")"
   ]
  },
  {
   "cell_type": "markdown",
   "id": "cf7e39ad",
   "metadata": {},
   "source": [
    "For Original Imbalanced Data"
   ]
  },
  {
   "cell_type": "code",
   "execution_count": 60,
   "id": "61031c33",
   "metadata": {},
   "outputs": [
    {
     "name": "stdout",
     "output_type": "stream",
     "text": [
      "Fitting 4 folds for each of 50 candidates, totalling 200 fits\n"
     ]
    },
    {
     "data": {
      "text/plain": [
       "GridSearchCV(cv=4, estimator=DecisionTreeClassifier(random_state=0), n_jobs=-1,\n",
       "             param_grid={'criterion': ['gini', 'entropy'],\n",
       "                         'max_depth': [2, 3, 5, 10, 20],\n",
       "                         'min_samples_leaf': [5, 10, 20, 50, 100]},\n",
       "             scoring='recall', verbose=1)"
      ]
     },
     "execution_count": 60,
     "metadata": {},
     "output_type": "execute_result"
    }
   ],
   "source": [
    "grid_search.fit(X_train, y_train)    #for original imbalanced data."
   ]
  },
  {
   "cell_type": "code",
   "execution_count": 61,
   "id": "754fd5ee",
   "metadata": {},
   "outputs": [
    {
     "data": {
      "text/html": [
       "<div>\n",
       "<style scoped>\n",
       "    .dataframe tbody tr th:only-of-type {\n",
       "        vertical-align: middle;\n",
       "    }\n",
       "\n",
       "    .dataframe tbody tr th {\n",
       "        vertical-align: top;\n",
       "    }\n",
       "\n",
       "    .dataframe thead th {\n",
       "        text-align: right;\n",
       "    }\n",
       "</style>\n",
       "<table border=\"1\" class=\"dataframe\">\n",
       "  <thead>\n",
       "    <tr style=\"text-align: right;\">\n",
       "      <th></th>\n",
       "      <th>mean_fit_time</th>\n",
       "      <th>std_fit_time</th>\n",
       "      <th>mean_score_time</th>\n",
       "      <th>std_score_time</th>\n",
       "      <th>param_criterion</th>\n",
       "      <th>param_max_depth</th>\n",
       "      <th>param_min_samples_leaf</th>\n",
       "      <th>params</th>\n",
       "      <th>split0_test_score</th>\n",
       "      <th>split1_test_score</th>\n",
       "      <th>split2_test_score</th>\n",
       "      <th>split3_test_score</th>\n",
       "      <th>mean_test_score</th>\n",
       "      <th>std_test_score</th>\n",
       "      <th>rank_test_score</th>\n",
       "    </tr>\n",
       "  </thead>\n",
       "  <tbody>\n",
       "    <tr>\n",
       "      <th>0</th>\n",
       "      <td>0.665669</td>\n",
       "      <td>0.014222</td>\n",
       "      <td>0.039832</td>\n",
       "      <td>0.005497</td>\n",
       "      <td>gini</td>\n",
       "      <td>2</td>\n",
       "      <td>5</td>\n",
       "      <td>{'criterion': 'gini', 'max_depth': 2, 'min_sam...</td>\n",
       "      <td>0.0</td>\n",
       "      <td>0.0</td>\n",
       "      <td>0.0</td>\n",
       "      <td>0.0</td>\n",
       "      <td>0.0</td>\n",
       "      <td>0.0</td>\n",
       "      <td>31</td>\n",
       "    </tr>\n",
       "    <tr>\n",
       "      <th>1</th>\n",
       "      <td>0.467083</td>\n",
       "      <td>0.005146</td>\n",
       "      <td>0.049807</td>\n",
       "      <td>0.010326</td>\n",
       "      <td>gini</td>\n",
       "      <td>2</td>\n",
       "      <td>10</td>\n",
       "      <td>{'criterion': 'gini', 'max_depth': 2, 'min_sam...</td>\n",
       "      <td>0.0</td>\n",
       "      <td>0.0</td>\n",
       "      <td>0.0</td>\n",
       "      <td>0.0</td>\n",
       "      <td>0.0</td>\n",
       "      <td>0.0</td>\n",
       "      <td>31</td>\n",
       "    </tr>\n",
       "    <tr>\n",
       "      <th>2</th>\n",
       "      <td>0.297396</td>\n",
       "      <td>0.013327</td>\n",
       "      <td>0.047693</td>\n",
       "      <td>0.009714</td>\n",
       "      <td>gini</td>\n",
       "      <td>2</td>\n",
       "      <td>20</td>\n",
       "      <td>{'criterion': 'gini', 'max_depth': 2, 'min_sam...</td>\n",
       "      <td>0.0</td>\n",
       "      <td>0.0</td>\n",
       "      <td>0.0</td>\n",
       "      <td>0.0</td>\n",
       "      <td>0.0</td>\n",
       "      <td>0.0</td>\n",
       "      <td>31</td>\n",
       "    </tr>\n",
       "    <tr>\n",
       "      <th>3</th>\n",
       "      <td>0.331369</td>\n",
       "      <td>0.003200</td>\n",
       "      <td>0.037743</td>\n",
       "      <td>0.002204</td>\n",
       "      <td>gini</td>\n",
       "      <td>2</td>\n",
       "      <td>50</td>\n",
       "      <td>{'criterion': 'gini', 'max_depth': 2, 'min_sam...</td>\n",
       "      <td>0.0</td>\n",
       "      <td>0.0</td>\n",
       "      <td>0.0</td>\n",
       "      <td>0.0</td>\n",
       "      <td>0.0</td>\n",
       "      <td>0.0</td>\n",
       "      <td>31</td>\n",
       "    </tr>\n",
       "    <tr>\n",
       "      <th>4</th>\n",
       "      <td>0.331609</td>\n",
       "      <td>0.011808</td>\n",
       "      <td>0.040037</td>\n",
       "      <td>0.006786</td>\n",
       "      <td>gini</td>\n",
       "      <td>2</td>\n",
       "      <td>100</td>\n",
       "      <td>{'criterion': 'gini', 'max_depth': 2, 'min_sam...</td>\n",
       "      <td>0.0</td>\n",
       "      <td>0.0</td>\n",
       "      <td>0.0</td>\n",
       "      <td>0.0</td>\n",
       "      <td>0.0</td>\n",
       "      <td>0.0</td>\n",
       "      <td>31</td>\n",
       "    </tr>\n",
       "  </tbody>\n",
       "</table>\n",
       "</div>"
      ],
      "text/plain": [
       "   mean_fit_time  std_fit_time  mean_score_time  std_score_time  \\\n",
       "0       0.665669      0.014222         0.039832        0.005497   \n",
       "1       0.467083      0.005146         0.049807        0.010326   \n",
       "2       0.297396      0.013327         0.047693        0.009714   \n",
       "3       0.331369      0.003200         0.037743        0.002204   \n",
       "4       0.331609      0.011808         0.040037        0.006786   \n",
       "\n",
       "  param_criterion param_max_depth param_min_samples_leaf  \\\n",
       "0            gini               2                      5   \n",
       "1            gini               2                     10   \n",
       "2            gini               2                     20   \n",
       "3            gini               2                     50   \n",
       "4            gini               2                    100   \n",
       "\n",
       "                                              params  split0_test_score  \\\n",
       "0  {'criterion': 'gini', 'max_depth': 2, 'min_sam...                0.0   \n",
       "1  {'criterion': 'gini', 'max_depth': 2, 'min_sam...                0.0   \n",
       "2  {'criterion': 'gini', 'max_depth': 2, 'min_sam...                0.0   \n",
       "3  {'criterion': 'gini', 'max_depth': 2, 'min_sam...                0.0   \n",
       "4  {'criterion': 'gini', 'max_depth': 2, 'min_sam...                0.0   \n",
       "\n",
       "   split1_test_score  split2_test_score  split3_test_score  mean_test_score  \\\n",
       "0                0.0                0.0                0.0              0.0   \n",
       "1                0.0                0.0                0.0              0.0   \n",
       "2                0.0                0.0                0.0              0.0   \n",
       "3                0.0                0.0                0.0              0.0   \n",
       "4                0.0                0.0                0.0              0.0   \n",
       "\n",
       "   std_test_score  rank_test_score  \n",
       "0             0.0               31  \n",
       "1             0.0               31  \n",
       "2             0.0               31  \n",
       "3             0.0               31  \n",
       "4             0.0               31  "
      ]
     },
     "execution_count": 61,
     "metadata": {},
     "output_type": "execute_result"
    }
   ],
   "source": [
    "score_rf_hp3 = pd.DataFrame(grid_search.cv_results_)\n",
    "score_rf_hp3.head()"
   ]
  },
  {
   "cell_type": "code",
   "execution_count": 62,
   "id": "9944a191",
   "metadata": {},
   "outputs": [
    {
     "data": {
      "text/plain": [
       "DecisionTreeClassifier(criterion='entropy', max_depth=20, min_samples_leaf=5,\n",
       "                       random_state=0)"
      ]
     },
     "execution_count": 62,
     "metadata": {},
     "output_type": "execute_result"
    }
   ],
   "source": [
    "grid_search.best_estimator_"
   ]
  },
  {
   "cell_type": "code",
   "execution_count": 63,
   "id": "e7e1e3eb",
   "metadata": {},
   "outputs": [
    {
     "name": "stdout",
     "output_type": "stream",
     "text": [
      "{'criterion': 'entropy', 'max_depth': 20, 'min_samples_leaf': 5}\n",
      "0.16867614294198977\n"
     ]
    }
   ],
   "source": [
    "print(grid_search.best_params_)\n",
    "\n",
    "print(grid_search.best_score_)"
   ]
  },
  {
   "cell_type": "code",
   "execution_count": 64,
   "id": "92fb229d",
   "metadata": {},
   "outputs": [
    {
     "name": "stdout",
     "output_type": "stream",
     "text": [
      "Accuracy: 0.8997279521362532\n",
      "Precision: 0.3306063522617902\n",
      "Recall: 0.16731612274719923\n",
      "F1 Score: 0.2221862871927555\n",
      "Cohens Kappa Score: 0.17471120097452864\n",
      "Area Under Curve: 0.7067664577048186\n"
     ]
    }
   ],
   "source": [
    "grid_search_evaluate = evaluate_model(grid_search, X_test, y_test)\n",
    "print('Accuracy:', grid_search_evaluate['acc'])\n",
    "print('Precision:', grid_search_evaluate['prec'])\n",
    "print('Recall:', grid_search_evaluate['rec'])\n",
    "print('F1 Score:', grid_search_evaluate['f1'])\n",
    "print('Cohens Kappa Score:', grid_search_evaluate['kappa'])\n",
    "print('Area Under Curve:', grid_search_evaluate['auc'])"
   ]
  },
  {
   "cell_type": "markdown",
   "id": "920161eb",
   "metadata": {},
   "source": [
    "For Undersampled Data"
   ]
  },
  {
   "cell_type": "code",
   "execution_count": 65,
   "id": "63e84541",
   "metadata": {},
   "outputs": [
    {
     "name": "stdout",
     "output_type": "stream",
     "text": [
      "Fitting 4 folds for each of 50 candidates, totalling 200 fits\n"
     ]
    },
    {
     "data": {
      "text/plain": [
       "GridSearchCV(cv=4, estimator=DecisionTreeClassifier(random_state=0), n_jobs=-1,\n",
       "             param_grid={'criterion': ['gini', 'entropy'],\n",
       "                         'max_depth': [2, 3, 5, 10, 20],\n",
       "                         'min_samples_leaf': [5, 10, 20, 50, 100]},\n",
       "             scoring='recall', verbose=1)"
      ]
     },
     "execution_count": 65,
     "metadata": {},
     "output_type": "execute_result"
    }
   ],
   "source": [
    "grid_search.fit(x_under, y_under)    #for undersampled data."
   ]
  },
  {
   "cell_type": "code",
   "execution_count": 66,
   "id": "8c29ec8e",
   "metadata": {},
   "outputs": [
    {
     "data": {
      "text/html": [
       "<div>\n",
       "<style scoped>\n",
       "    .dataframe tbody tr th:only-of-type {\n",
       "        vertical-align: middle;\n",
       "    }\n",
       "\n",
       "    .dataframe tbody tr th {\n",
       "        vertical-align: top;\n",
       "    }\n",
       "\n",
       "    .dataframe thead th {\n",
       "        text-align: right;\n",
       "    }\n",
       "</style>\n",
       "<table border=\"1\" class=\"dataframe\">\n",
       "  <thead>\n",
       "    <tr style=\"text-align: right;\">\n",
       "      <th></th>\n",
       "      <th>mean_fit_time</th>\n",
       "      <th>std_fit_time</th>\n",
       "      <th>mean_score_time</th>\n",
       "      <th>std_score_time</th>\n",
       "      <th>param_criterion</th>\n",
       "      <th>param_max_depth</th>\n",
       "      <th>param_min_samples_leaf</th>\n",
       "      <th>params</th>\n",
       "      <th>split0_test_score</th>\n",
       "      <th>split1_test_score</th>\n",
       "      <th>split2_test_score</th>\n",
       "      <th>split3_test_score</th>\n",
       "      <th>mean_test_score</th>\n",
       "      <th>std_test_score</th>\n",
       "      <th>rank_test_score</th>\n",
       "    </tr>\n",
       "  </thead>\n",
       "  <tbody>\n",
       "    <tr>\n",
       "      <th>0</th>\n",
       "      <td>0.092301</td>\n",
       "      <td>0.007464</td>\n",
       "      <td>0.014424</td>\n",
       "      <td>0.004538</td>\n",
       "      <td>gini</td>\n",
       "      <td>2</td>\n",
       "      <td>5</td>\n",
       "      <td>{'criterion': 'gini', 'max_depth': 2, 'min_sam...</td>\n",
       "      <td>0.342686</td>\n",
       "      <td>0.291831</td>\n",
       "      <td>0.343805</td>\n",
       "      <td>0.285109</td>\n",
       "      <td>0.315858</td>\n",
       "      <td>0.027493</td>\n",
       "      <td>46</td>\n",
       "    </tr>\n",
       "    <tr>\n",
       "      <th>1</th>\n",
       "      <td>0.104795</td>\n",
       "      <td>0.006067</td>\n",
       "      <td>0.017750</td>\n",
       "      <td>0.005972</td>\n",
       "      <td>gini</td>\n",
       "      <td>2</td>\n",
       "      <td>10</td>\n",
       "      <td>{'criterion': 'gini', 'max_depth': 2, 'min_sam...</td>\n",
       "      <td>0.342686</td>\n",
       "      <td>0.291831</td>\n",
       "      <td>0.343805</td>\n",
       "      <td>0.285109</td>\n",
       "      <td>0.315858</td>\n",
       "      <td>0.027493</td>\n",
       "      <td>46</td>\n",
       "    </tr>\n",
       "    <tr>\n",
       "      <th>2</th>\n",
       "      <td>0.101912</td>\n",
       "      <td>0.012009</td>\n",
       "      <td>0.013426</td>\n",
       "      <td>0.001277</td>\n",
       "      <td>gini</td>\n",
       "      <td>2</td>\n",
       "      <td>20</td>\n",
       "      <td>{'criterion': 'gini', 'max_depth': 2, 'min_sam...</td>\n",
       "      <td>0.342686</td>\n",
       "      <td>0.291831</td>\n",
       "      <td>0.343805</td>\n",
       "      <td>0.285109</td>\n",
       "      <td>0.315858</td>\n",
       "      <td>0.027493</td>\n",
       "      <td>46</td>\n",
       "    </tr>\n",
       "    <tr>\n",
       "      <th>3</th>\n",
       "      <td>0.103898</td>\n",
       "      <td>0.008399</td>\n",
       "      <td>0.017127</td>\n",
       "      <td>0.002810</td>\n",
       "      <td>gini</td>\n",
       "      <td>2</td>\n",
       "      <td>50</td>\n",
       "      <td>{'criterion': 'gini', 'max_depth': 2, 'min_sam...</td>\n",
       "      <td>0.342686</td>\n",
       "      <td>0.291831</td>\n",
       "      <td>0.343805</td>\n",
       "      <td>0.285109</td>\n",
       "      <td>0.315858</td>\n",
       "      <td>0.027493</td>\n",
       "      <td>46</td>\n",
       "    </tr>\n",
       "    <tr>\n",
       "      <th>4</th>\n",
       "      <td>0.104718</td>\n",
       "      <td>0.012841</td>\n",
       "      <td>0.015725</td>\n",
       "      <td>0.005091</td>\n",
       "      <td>gini</td>\n",
       "      <td>2</td>\n",
       "      <td>100</td>\n",
       "      <td>{'criterion': 'gini', 'max_depth': 2, 'min_sam...</td>\n",
       "      <td>0.342686</td>\n",
       "      <td>0.291831</td>\n",
       "      <td>0.343805</td>\n",
       "      <td>0.285109</td>\n",
       "      <td>0.315858</td>\n",
       "      <td>0.027493</td>\n",
       "      <td>46</td>\n",
       "    </tr>\n",
       "  </tbody>\n",
       "</table>\n",
       "</div>"
      ],
      "text/plain": [
       "   mean_fit_time  std_fit_time  mean_score_time  std_score_time  \\\n",
       "0       0.092301      0.007464         0.014424        0.004538   \n",
       "1       0.104795      0.006067         0.017750        0.005972   \n",
       "2       0.101912      0.012009         0.013426        0.001277   \n",
       "3       0.103898      0.008399         0.017127        0.002810   \n",
       "4       0.104718      0.012841         0.015725        0.005091   \n",
       "\n",
       "  param_criterion param_max_depth param_min_samples_leaf  \\\n",
       "0            gini               2                      5   \n",
       "1            gini               2                     10   \n",
       "2            gini               2                     20   \n",
       "3            gini               2                     50   \n",
       "4            gini               2                    100   \n",
       "\n",
       "                                              params  split0_test_score  \\\n",
       "0  {'criterion': 'gini', 'max_depth': 2, 'min_sam...           0.342686   \n",
       "1  {'criterion': 'gini', 'max_depth': 2, 'min_sam...           0.342686   \n",
       "2  {'criterion': 'gini', 'max_depth': 2, 'min_sam...           0.342686   \n",
       "3  {'criterion': 'gini', 'max_depth': 2, 'min_sam...           0.342686   \n",
       "4  {'criterion': 'gini', 'max_depth': 2, 'min_sam...           0.342686   \n",
       "\n",
       "   split1_test_score  split2_test_score  split3_test_score  mean_test_score  \\\n",
       "0           0.291831           0.343805           0.285109         0.315858   \n",
       "1           0.291831           0.343805           0.285109         0.315858   \n",
       "2           0.291831           0.343805           0.285109         0.315858   \n",
       "3           0.291831           0.343805           0.285109         0.315858   \n",
       "4           0.291831           0.343805           0.285109         0.315858   \n",
       "\n",
       "   std_test_score  rank_test_score  \n",
       "0        0.027493               46  \n",
       "1        0.027493               46  \n",
       "2        0.027493               46  \n",
       "3        0.027493               46  \n",
       "4        0.027493               46  "
      ]
     },
     "execution_count": 66,
     "metadata": {},
     "output_type": "execute_result"
    }
   ],
   "source": [
    "score_rf_hp4 = pd.DataFrame(grid_search.cv_results_)\n",
    "score_rf_hp4.head()"
   ]
  },
  {
   "cell_type": "code",
   "execution_count": 67,
   "id": "cf56d4a2",
   "metadata": {},
   "outputs": [
    {
     "data": {
      "text/plain": [
       "DecisionTreeClassifier(max_depth=10, min_samples_leaf=50, random_state=0)"
      ]
     },
     "execution_count": 67,
     "metadata": {},
     "output_type": "execute_result"
    }
   ],
   "source": [
    "grid_search.best_estimator_"
   ]
  },
  {
   "cell_type": "code",
   "execution_count": 68,
   "id": "ebae48f0",
   "metadata": {},
   "outputs": [
    {
     "name": "stdout",
     "output_type": "stream",
     "text": [
      "{'criterion': 'gini', 'max_depth': 10, 'min_samples_leaf': 50}\n",
      "0.6078617680270351\n"
     ]
    }
   ],
   "source": [
    "print(grid_search.best_params_)\n",
    "\n",
    "print(grid_search.best_score_)"
   ]
  },
  {
   "cell_type": "code",
   "execution_count": 69,
   "id": "dd32548d",
   "metadata": {},
   "outputs": [
    {
     "name": "stdout",
     "output_type": "stream",
     "text": [
      "Accuracy: 0.8248887313813986\n",
      "Precision: 0.27302040384818693\n",
      "Recall: 0.6289576229907452\n",
      "F1 Score: 0.3807593070401769\n",
      "Cohens Kappa Score: 0.2968177378825826\n",
      "Area Under Curve: 0.8397368684848272\n"
     ]
    }
   ],
   "source": [
    "grid_search_evaluate = evaluate_model(grid_search, X_test, y_test)\n",
    "print('Accuracy:', grid_search_evaluate['acc'])\n",
    "print('Precision:', grid_search_evaluate['prec'])\n",
    "print('Recall:', grid_search_evaluate['rec'])\n",
    "print('F1 Score:', grid_search_evaluate['f1'])\n",
    "print('Cohens Kappa Score:', grid_search_evaluate['kappa'])\n",
    "print('Area Under Curve:', grid_search_evaluate['auc'])"
   ]
  },
  {
   "cell_type": "markdown",
   "id": "2109fa5b",
   "metadata": {},
   "source": [
    "For Oversampled Data"
   ]
  },
  {
   "cell_type": "code",
   "execution_count": 48,
   "id": "1ee17dca",
   "metadata": {},
   "outputs": [
    {
     "name": "stdout",
     "output_type": "stream",
     "text": [
      "Fitting 4 folds for each of 50 candidates, totalling 200 fits\n"
     ]
    },
    {
     "data": {
      "text/plain": [
       "GridSearchCV(cv=4, estimator=DecisionTreeClassifier(random_state=0), n_jobs=-1,\n",
       "             param_grid={'criterion': ['gini', 'entropy'],\n",
       "                         'max_depth': [2, 3, 5, 10, 20],\n",
       "                         'min_samples_leaf': [5, 10, 20, 50, 100]},\n",
       "             scoring='recall', verbose=1)"
      ]
     },
     "execution_count": 48,
     "metadata": {},
     "output_type": "execute_result"
    }
   ],
   "source": [
    "grid_search.fit(x_over, y_over)    #for oversampled data."
   ]
  },
  {
   "cell_type": "code",
   "execution_count": 49,
   "id": "fa63305c",
   "metadata": {},
   "outputs": [
    {
     "data": {
      "text/html": [
       "<div>\n",
       "<style scoped>\n",
       "    .dataframe tbody tr th:only-of-type {\n",
       "        vertical-align: middle;\n",
       "    }\n",
       "\n",
       "    .dataframe tbody tr th {\n",
       "        vertical-align: top;\n",
       "    }\n",
       "\n",
       "    .dataframe thead th {\n",
       "        text-align: right;\n",
       "    }\n",
       "</style>\n",
       "<table border=\"1\" class=\"dataframe\">\n",
       "  <thead>\n",
       "    <tr style=\"text-align: right;\">\n",
       "      <th></th>\n",
       "      <th>mean_fit_time</th>\n",
       "      <th>std_fit_time</th>\n",
       "      <th>mean_score_time</th>\n",
       "      <th>std_score_time</th>\n",
       "      <th>param_criterion</th>\n",
       "      <th>param_max_depth</th>\n",
       "      <th>param_min_samples_leaf</th>\n",
       "      <th>params</th>\n",
       "      <th>split0_test_score</th>\n",
       "      <th>split1_test_score</th>\n",
       "      <th>split2_test_score</th>\n",
       "      <th>split3_test_score</th>\n",
       "      <th>mean_test_score</th>\n",
       "      <th>std_test_score</th>\n",
       "      <th>rank_test_score</th>\n",
       "    </tr>\n",
       "  </thead>\n",
       "  <tbody>\n",
       "    <tr>\n",
       "      <th>0</th>\n",
       "      <td>2.152030</td>\n",
       "      <td>0.026230</td>\n",
       "      <td>0.115590</td>\n",
       "      <td>0.007527</td>\n",
       "      <td>gini</td>\n",
       "      <td>2</td>\n",
       "      <td>5</td>\n",
       "      <td>{'criterion': 'gini', 'max_depth': 2, 'min_sam...</td>\n",
       "      <td>0.915423</td>\n",
       "      <td>0.870187</td>\n",
       "      <td>0.871406</td>\n",
       "      <td>0.871611</td>\n",
       "      <td>0.882157</td>\n",
       "      <td>0.019214</td>\n",
       "      <td>8</td>\n",
       "    </tr>\n",
       "    <tr>\n",
       "      <th>1</th>\n",
       "      <td>1.122944</td>\n",
       "      <td>0.010983</td>\n",
       "      <td>0.117859</td>\n",
       "      <td>0.006544</td>\n",
       "      <td>gini</td>\n",
       "      <td>2</td>\n",
       "      <td>10</td>\n",
       "      <td>{'criterion': 'gini', 'max_depth': 2, 'min_sam...</td>\n",
       "      <td>0.915423</td>\n",
       "      <td>0.870187</td>\n",
       "      <td>0.871406</td>\n",
       "      <td>0.871611</td>\n",
       "      <td>0.882157</td>\n",
       "      <td>0.019214</td>\n",
       "      <td>8</td>\n",
       "    </tr>\n",
       "    <tr>\n",
       "      <th>2</th>\n",
       "      <td>0.966553</td>\n",
       "      <td>0.014963</td>\n",
       "      <td>0.118178</td>\n",
       "      <td>0.014523</td>\n",
       "      <td>gini</td>\n",
       "      <td>2</td>\n",
       "      <td>20</td>\n",
       "      <td>{'criterion': 'gini', 'max_depth': 2, 'min_sam...</td>\n",
       "      <td>0.915423</td>\n",
       "      <td>0.870187</td>\n",
       "      <td>0.871406</td>\n",
       "      <td>0.871611</td>\n",
       "      <td>0.882157</td>\n",
       "      <td>0.019214</td>\n",
       "      <td>8</td>\n",
       "    </tr>\n",
       "    <tr>\n",
       "      <th>3</th>\n",
       "      <td>0.997789</td>\n",
       "      <td>0.008666</td>\n",
       "      <td>0.113308</td>\n",
       "      <td>0.002570</td>\n",
       "      <td>gini</td>\n",
       "      <td>2</td>\n",
       "      <td>50</td>\n",
       "      <td>{'criterion': 'gini', 'max_depth': 2, 'min_sam...</td>\n",
       "      <td>0.915423</td>\n",
       "      <td>0.870187</td>\n",
       "      <td>0.871406</td>\n",
       "      <td>0.871611</td>\n",
       "      <td>0.882157</td>\n",
       "      <td>0.019214</td>\n",
       "      <td>8</td>\n",
       "    </tr>\n",
       "    <tr>\n",
       "      <th>4</th>\n",
       "      <td>1.005507</td>\n",
       "      <td>0.010948</td>\n",
       "      <td>0.118730</td>\n",
       "      <td>0.001615</td>\n",
       "      <td>gini</td>\n",
       "      <td>2</td>\n",
       "      <td>100</td>\n",
       "      <td>{'criterion': 'gini', 'max_depth': 2, 'min_sam...</td>\n",
       "      <td>0.915423</td>\n",
       "      <td>0.870187</td>\n",
       "      <td>0.871406</td>\n",
       "      <td>0.871611</td>\n",
       "      <td>0.882157</td>\n",
       "      <td>0.019214</td>\n",
       "      <td>8</td>\n",
       "    </tr>\n",
       "  </tbody>\n",
       "</table>\n",
       "</div>"
      ],
      "text/plain": [
       "   mean_fit_time  std_fit_time  mean_score_time  std_score_time  \\\n",
       "0       2.152030      0.026230         0.115590        0.007527   \n",
       "1       1.122944      0.010983         0.117859        0.006544   \n",
       "2       0.966553      0.014963         0.118178        0.014523   \n",
       "3       0.997789      0.008666         0.113308        0.002570   \n",
       "4       1.005507      0.010948         0.118730        0.001615   \n",
       "\n",
       "  param_criterion param_max_depth param_min_samples_leaf  \\\n",
       "0            gini               2                      5   \n",
       "1            gini               2                     10   \n",
       "2            gini               2                     20   \n",
       "3            gini               2                     50   \n",
       "4            gini               2                    100   \n",
       "\n",
       "                                              params  split0_test_score  \\\n",
       "0  {'criterion': 'gini', 'max_depth': 2, 'min_sam...           0.915423   \n",
       "1  {'criterion': 'gini', 'max_depth': 2, 'min_sam...           0.915423   \n",
       "2  {'criterion': 'gini', 'max_depth': 2, 'min_sam...           0.915423   \n",
       "3  {'criterion': 'gini', 'max_depth': 2, 'min_sam...           0.915423   \n",
       "4  {'criterion': 'gini', 'max_depth': 2, 'min_sam...           0.915423   \n",
       "\n",
       "   split1_test_score  split2_test_score  split3_test_score  mean_test_score  \\\n",
       "0           0.870187           0.871406           0.871611         0.882157   \n",
       "1           0.870187           0.871406           0.871611         0.882157   \n",
       "2           0.870187           0.871406           0.871611         0.882157   \n",
       "3           0.870187           0.871406           0.871611         0.882157   \n",
       "4           0.870187           0.871406           0.871611         0.882157   \n",
       "\n",
       "   std_test_score  rank_test_score  \n",
       "0        0.019214                8  \n",
       "1        0.019214                8  \n",
       "2        0.019214                8  \n",
       "3        0.019214                8  \n",
       "4        0.019214                8  "
      ]
     },
     "execution_count": 49,
     "metadata": {},
     "output_type": "execute_result"
    }
   ],
   "source": [
    "score_rf_hp = pd.DataFrame(grid_search.cv_results_)\n",
    "score_rf_hp.head()"
   ]
  },
  {
   "cell_type": "code",
   "execution_count": 50,
   "id": "8689a3b9",
   "metadata": {},
   "outputs": [
    {
     "data": {
      "text/plain": [
       "DecisionTreeClassifier(max_depth=20, min_samples_leaf=5, random_state=0)"
      ]
     },
     "execution_count": 50,
     "metadata": {},
     "output_type": "execute_result"
    }
   ],
   "source": [
    "grid_search.best_estimator_"
   ]
  },
  {
   "cell_type": "code",
   "execution_count": 54,
   "id": "c6e6675c",
   "metadata": {},
   "outputs": [
    {
     "name": "stdout",
     "output_type": "stream",
     "text": [
      "{'criterion': 'gini', 'max_depth': 20, 'min_samples_leaf': 5}\n",
      "0.9157723961316597\n"
     ]
    }
   ],
   "source": [
    "print(grid_search.best_params_)\n",
    "\n",
    "print(grid_search.best_score_)"
   ]
  },
  {
   "cell_type": "code",
   "execution_count": 53,
   "id": "1d2365ef",
   "metadata": {},
   "outputs": [
    {
     "name": "stdout",
     "output_type": "stream",
     "text": [
      "Accuracy: 0.8276613264678598\n",
      "Precision: 0.32331210191082804\n",
      "Recall: 0.9271797369702874\n",
      "F1 Score: 0.4794408412568478\n",
      "Cohens Kappa Score: 0.4037596055389734\n",
      "Area Under Curve: 0.9468439523542712\n"
     ]
    }
   ],
   "source": [
    "grid_search_evaluate = evaluate_model(grid_search, X_test, y_test)\n",
    "print('Accuracy:', grid_search_evaluate['acc'])\n",
    "print('Precision:', grid_search_evaluate['prec'])\n",
    "print('Recall:', grid_search_evaluate['rec'])\n",
    "print('F1 Score:', grid_search_evaluate['f1'])\n",
    "print('Cohens Kappa Score:', grid_search_evaluate['kappa'])\n",
    "print('Area Under Curve:', grid_search_evaluate['auc'])"
   ]
  },
  {
   "cell_type": "markdown",
   "id": "d110dca7",
   "metadata": {},
   "source": [
    "For SMOTE Oversampled Data"
   ]
  },
  {
   "cell_type": "code",
   "execution_count": 55,
   "id": "74d67f6c",
   "metadata": {},
   "outputs": [
    {
     "name": "stdout",
     "output_type": "stream",
     "text": [
      "Fitting 4 folds for each of 50 candidates, totalling 200 fits\n"
     ]
    },
    {
     "data": {
      "text/plain": [
       "GridSearchCV(cv=4, estimator=DecisionTreeClassifier(random_state=0), n_jobs=-1,\n",
       "             param_grid={'criterion': ['gini', 'entropy'],\n",
       "                         'max_depth': [2, 3, 5, 10, 20],\n",
       "                         'min_samples_leaf': [5, 10, 20, 50, 100]},\n",
       "             scoring='recall', verbose=1)"
      ]
     },
     "execution_count": 55,
     "metadata": {},
     "output_type": "execute_result"
    }
   ],
   "source": [
    "grid_search.fit(x_smote, y_smote)    #for SMOTE oversampled data."
   ]
  },
  {
   "cell_type": "code",
   "execution_count": 56,
   "id": "08f69384",
   "metadata": {},
   "outputs": [
    {
     "data": {
      "text/html": [
       "<div>\n",
       "<style scoped>\n",
       "    .dataframe tbody tr th:only-of-type {\n",
       "        vertical-align: middle;\n",
       "    }\n",
       "\n",
       "    .dataframe tbody tr th {\n",
       "        vertical-align: top;\n",
       "    }\n",
       "\n",
       "    .dataframe thead th {\n",
       "        text-align: right;\n",
       "    }\n",
       "</style>\n",
       "<table border=\"1\" class=\"dataframe\">\n",
       "  <thead>\n",
       "    <tr style=\"text-align: right;\">\n",
       "      <th></th>\n",
       "      <th>mean_fit_time</th>\n",
       "      <th>std_fit_time</th>\n",
       "      <th>mean_score_time</th>\n",
       "      <th>std_score_time</th>\n",
       "      <th>param_criterion</th>\n",
       "      <th>param_max_depth</th>\n",
       "      <th>param_min_samples_leaf</th>\n",
       "      <th>params</th>\n",
       "      <th>split0_test_score</th>\n",
       "      <th>split1_test_score</th>\n",
       "      <th>split2_test_score</th>\n",
       "      <th>split3_test_score</th>\n",
       "      <th>mean_test_score</th>\n",
       "      <th>std_test_score</th>\n",
       "      <th>rank_test_score</th>\n",
       "    </tr>\n",
       "  </thead>\n",
       "  <tbody>\n",
       "    <tr>\n",
       "      <th>0</th>\n",
       "      <td>2.561123</td>\n",
       "      <td>0.206120</td>\n",
       "      <td>0.170317</td>\n",
       "      <td>0.041415</td>\n",
       "      <td>gini</td>\n",
       "      <td>2</td>\n",
       "      <td>5</td>\n",
       "      <td>{'criterion': 'gini', 'max_depth': 2, 'min_sam...</td>\n",
       "      <td>0.943903</td>\n",
       "      <td>0.945188</td>\n",
       "      <td>0.944204</td>\n",
       "      <td>0.943753</td>\n",
       "      <td>0.944262</td>\n",
       "      <td>0.000559</td>\n",
       "      <td>1</td>\n",
       "    </tr>\n",
       "    <tr>\n",
       "      <th>1</th>\n",
       "      <td>1.253024</td>\n",
       "      <td>0.031775</td>\n",
       "      <td>0.159724</td>\n",
       "      <td>0.006093</td>\n",
       "      <td>gini</td>\n",
       "      <td>2</td>\n",
       "      <td>10</td>\n",
       "      <td>{'criterion': 'gini', 'max_depth': 2, 'min_sam...</td>\n",
       "      <td>0.943903</td>\n",
       "      <td>0.945188</td>\n",
       "      <td>0.944204</td>\n",
       "      <td>0.943753</td>\n",
       "      <td>0.944262</td>\n",
       "      <td>0.000559</td>\n",
       "      <td>1</td>\n",
       "    </tr>\n",
       "    <tr>\n",
       "      <th>2</th>\n",
       "      <td>1.309833</td>\n",
       "      <td>0.034696</td>\n",
       "      <td>0.112051</td>\n",
       "      <td>0.006948</td>\n",
       "      <td>gini</td>\n",
       "      <td>2</td>\n",
       "      <td>20</td>\n",
       "      <td>{'criterion': 'gini', 'max_depth': 2, 'min_sam...</td>\n",
       "      <td>0.943903</td>\n",
       "      <td>0.945188</td>\n",
       "      <td>0.944204</td>\n",
       "      <td>0.943753</td>\n",
       "      <td>0.944262</td>\n",
       "      <td>0.000559</td>\n",
       "      <td>1</td>\n",
       "    </tr>\n",
       "    <tr>\n",
       "      <th>3</th>\n",
       "      <td>1.154186</td>\n",
       "      <td>0.010213</td>\n",
       "      <td>0.119904</td>\n",
       "      <td>0.005893</td>\n",
       "      <td>gini</td>\n",
       "      <td>2</td>\n",
       "      <td>50</td>\n",
       "      <td>{'criterion': 'gini', 'max_depth': 2, 'min_sam...</td>\n",
       "      <td>0.943903</td>\n",
       "      <td>0.945188</td>\n",
       "      <td>0.944204</td>\n",
       "      <td>0.943753</td>\n",
       "      <td>0.944262</td>\n",
       "      <td>0.000559</td>\n",
       "      <td>1</td>\n",
       "    </tr>\n",
       "    <tr>\n",
       "      <th>4</th>\n",
       "      <td>1.186633</td>\n",
       "      <td>0.037605</td>\n",
       "      <td>0.126477</td>\n",
       "      <td>0.016088</td>\n",
       "      <td>gini</td>\n",
       "      <td>2</td>\n",
       "      <td>100</td>\n",
       "      <td>{'criterion': 'gini', 'max_depth': 2, 'min_sam...</td>\n",
       "      <td>0.943903</td>\n",
       "      <td>0.945188</td>\n",
       "      <td>0.944204</td>\n",
       "      <td>0.943753</td>\n",
       "      <td>0.944262</td>\n",
       "      <td>0.000559</td>\n",
       "      <td>1</td>\n",
       "    </tr>\n",
       "  </tbody>\n",
       "</table>\n",
       "</div>"
      ],
      "text/plain": [
       "   mean_fit_time  std_fit_time  mean_score_time  std_score_time  \\\n",
       "0       2.561123      0.206120         0.170317        0.041415   \n",
       "1       1.253024      0.031775         0.159724        0.006093   \n",
       "2       1.309833      0.034696         0.112051        0.006948   \n",
       "3       1.154186      0.010213         0.119904        0.005893   \n",
       "4       1.186633      0.037605         0.126477        0.016088   \n",
       "\n",
       "  param_criterion param_max_depth param_min_samples_leaf  \\\n",
       "0            gini               2                      5   \n",
       "1            gini               2                     10   \n",
       "2            gini               2                     20   \n",
       "3            gini               2                     50   \n",
       "4            gini               2                    100   \n",
       "\n",
       "                                              params  split0_test_score  \\\n",
       "0  {'criterion': 'gini', 'max_depth': 2, 'min_sam...           0.943903   \n",
       "1  {'criterion': 'gini', 'max_depth': 2, 'min_sam...           0.943903   \n",
       "2  {'criterion': 'gini', 'max_depth': 2, 'min_sam...           0.943903   \n",
       "3  {'criterion': 'gini', 'max_depth': 2, 'min_sam...           0.943903   \n",
       "4  {'criterion': 'gini', 'max_depth': 2, 'min_sam...           0.943903   \n",
       "\n",
       "   split1_test_score  split2_test_score  split3_test_score  mean_test_score  \\\n",
       "0           0.945188           0.944204           0.943753         0.944262   \n",
       "1           0.945188           0.944204           0.943753         0.944262   \n",
       "2           0.945188           0.944204           0.943753         0.944262   \n",
       "3           0.945188           0.944204           0.943753         0.944262   \n",
       "4           0.945188           0.944204           0.943753         0.944262   \n",
       "\n",
       "   std_test_score  rank_test_score  \n",
       "0        0.000559                1  \n",
       "1        0.000559                1  \n",
       "2        0.000559                1  \n",
       "3        0.000559                1  \n",
       "4        0.000559                1  "
      ]
     },
     "execution_count": 56,
     "metadata": {},
     "output_type": "execute_result"
    }
   ],
   "source": [
    "score_rf_hp2 = pd.DataFrame(grid_search.cv_results_)\n",
    "score_rf_hp2.head()"
   ]
  },
  {
   "cell_type": "code",
   "execution_count": 57,
   "id": "c2c26e0c",
   "metadata": {},
   "outputs": [
    {
     "data": {
      "text/plain": [
       "DecisionTreeClassifier(max_depth=2, min_samples_leaf=5, random_state=0)"
      ]
     },
     "execution_count": 57,
     "metadata": {},
     "output_type": "execute_result"
    }
   ],
   "source": [
    "grid_search.best_estimator_"
   ]
  },
  {
   "cell_type": "code",
   "execution_count": 58,
   "id": "2a24501c",
   "metadata": {},
   "outputs": [
    {
     "name": "stdout",
     "output_type": "stream",
     "text": [
      "{'criterion': 'gini', 'max_depth': 2, 'min_samples_leaf': 5}\n",
      "0.9442620615648286\n"
     ]
    }
   ],
   "source": [
    "print(grid_search.best_params_)\n",
    "\n",
    "print(grid_search.best_score_)"
   ]
  },
  {
   "cell_type": "code",
   "execution_count": 59,
   "id": "a39412da",
   "metadata": {},
   "outputs": [
    {
     "name": "stdout",
     "output_type": "stream",
     "text": [
      "Accuracy: 0.43069033448336963\n",
      "Precision: 0.12541770925821294\n",
      "Recall: 0.9460545543107647\n",
      "F1 Score: 0.2214746924754479\n",
      "Cohens Kappa Score: 0.0828429412516376\n",
      "Area Under Curve: 0.7015762047996715\n"
     ]
    }
   ],
   "source": [
    "grid_search_evaluate = evaluate_model(grid_search, X_test, y_test)\n",
    "print('Accuracy:', grid_search_evaluate['acc'])\n",
    "print('Precision:', grid_search_evaluate['prec'])\n",
    "print('Recall:', grid_search_evaluate['rec'])\n",
    "print('F1 Score:', grid_search_evaluate['f1'])\n",
    "print('Cohens Kappa Score:', grid_search_evaluate['kappa'])\n",
    "print('Area Under Curve:', grid_search_evaluate['auc'])"
   ]
  },
  {
   "cell_type": "markdown",
   "id": "50832815",
   "metadata": {},
   "source": [
    "##### Random Forest"
   ]
  },
  {
   "cell_type": "code",
   "execution_count": 45,
   "id": "679742fd",
   "metadata": {},
   "outputs": [],
   "source": [
    "grid_search = GridSearchCV(estimator=rf_clf, \n",
    "                           param_grid=params, \n",
    "                           cv=4, n_jobs=-1, verbose=1, scoring = \"recall\")"
   ]
  },
  {
   "cell_type": "markdown",
   "id": "cc7d89aa",
   "metadata": {},
   "source": [
    "For Original Imbalanced Data"
   ]
  },
  {
   "cell_type": "code",
   "execution_count": null,
   "id": "03b88a48",
   "metadata": {},
   "outputs": [
    {
     "name": "stdout",
     "output_type": "stream",
     "text": [
      "Fitting 4 folds for each of 50 candidates, totalling 200 fits\n"
     ]
    }
   ],
   "source": [
    "grid_search.fit(X_train, y_train)    #for original imbalanced data."
   ]
  },
  {
   "cell_type": "code",
   "execution_count": null,
   "id": "fdbbeb39",
   "metadata": {},
   "outputs": [],
   "source": [
    "# score_rf_hp5 = pd.DataFrame(grid_search.cv_results_)\n",
    "# score_rf_hp5.head()"
   ]
  },
  {
   "cell_type": "code",
   "execution_count": null,
   "id": "a6f52955",
   "metadata": {},
   "outputs": [],
   "source": [
    "# grid_search.best_estimator_"
   ]
  },
  {
   "cell_type": "code",
   "execution_count": null,
   "id": "e16a894a",
   "metadata": {},
   "outputs": [],
   "source": [
    "# print(grid_search.best_params_)\n",
    "\n",
    "# print(grid_search.best_score_)"
   ]
  },
  {
   "cell_type": "code",
   "execution_count": null,
   "id": "ab259909",
   "metadata": {},
   "outputs": [],
   "source": [
    "# grid_search_evaluate = evaluate_model(grid_search, X_test, y_test)\n",
    "# print('Accuracy:', grid_search_evaluate['acc'])\n",
    "# print('Precision:', grid_search_evaluate['prec'])\n",
    "# print('Recall:', grid_search_evaluate['rec'])\n",
    "# print('F1 Score:', grid_search_evaluate['f1'])\n",
    "# print('Cohens Kappa Score:', grid_search_evaluate['kappa'])\n",
    "# print('Area Under Curve:', grid_search_evaluate['auc'])"
   ]
  },
  {
   "cell_type": "markdown",
   "id": "7032387b",
   "metadata": {},
   "source": [
    "For Undersampled Data"
   ]
  },
  {
   "cell_type": "code",
   "execution_count": 46,
   "id": "d2b0dd16",
   "metadata": {},
   "outputs": [
    {
     "name": "stdout",
     "output_type": "stream",
     "text": [
      "Fitting 4 folds for each of 50 candidates, totalling 200 fits\n"
     ]
    },
    {
     "data": {
      "text/plain": [
       "GridSearchCV(cv=4, estimator=RandomForestClassifier(), n_jobs=-1,\n",
       "             param_grid={'criterion': ['gini', 'entropy'],\n",
       "                         'max_depth': [2, 3, 5, 10, 20],\n",
       "                         'min_samples_leaf': [5, 10, 20, 50, 100]},\n",
       "             scoring='recall', verbose=1)"
      ]
     },
     "execution_count": 46,
     "metadata": {},
     "output_type": "execute_result"
    }
   ],
   "source": [
    "grid_search.fit(x_under, y_under)    #for undersampled data."
   ]
  },
  {
   "cell_type": "code",
   "execution_count": 47,
   "id": "505b492b",
   "metadata": {},
   "outputs": [
    {
     "data": {
      "text/html": [
       "<div>\n",
       "<style scoped>\n",
       "    .dataframe tbody tr th:only-of-type {\n",
       "        vertical-align: middle;\n",
       "    }\n",
       "\n",
       "    .dataframe tbody tr th {\n",
       "        vertical-align: top;\n",
       "    }\n",
       "\n",
       "    .dataframe thead th {\n",
       "        text-align: right;\n",
       "    }\n",
       "</style>\n",
       "<table border=\"1\" class=\"dataframe\">\n",
       "  <thead>\n",
       "    <tr style=\"text-align: right;\">\n",
       "      <th></th>\n",
       "      <th>mean_fit_time</th>\n",
       "      <th>std_fit_time</th>\n",
       "      <th>mean_score_time</th>\n",
       "      <th>std_score_time</th>\n",
       "      <th>param_criterion</th>\n",
       "      <th>param_max_depth</th>\n",
       "      <th>param_min_samples_leaf</th>\n",
       "      <th>params</th>\n",
       "      <th>split0_test_score</th>\n",
       "      <th>split1_test_score</th>\n",
       "      <th>split2_test_score</th>\n",
       "      <th>split3_test_score</th>\n",
       "      <th>mean_test_score</th>\n",
       "      <th>std_test_score</th>\n",
       "      <th>rank_test_score</th>\n",
       "    </tr>\n",
       "  </thead>\n",
       "  <tbody>\n",
       "    <tr>\n",
       "      <th>0</th>\n",
       "      <td>3.439188</td>\n",
       "      <td>0.014447</td>\n",
       "      <td>0.273470</td>\n",
       "      <td>0.010902</td>\n",
       "      <td>gini</td>\n",
       "      <td>2</td>\n",
       "      <td>5</td>\n",
       "      <td>{'criterion': 'gini', 'max_depth': 2, 'min_sam...</td>\n",
       "      <td>0.251644</td>\n",
       "      <td>0.231185</td>\n",
       "      <td>0.214348</td>\n",
       "      <td>0.232208</td>\n",
       "      <td>0.232346</td>\n",
       "      <td>0.013207</td>\n",
       "      <td>43</td>\n",
       "    </tr>\n",
       "    <tr>\n",
       "      <th>1</th>\n",
       "      <td>3.501954</td>\n",
       "      <td>0.019704</td>\n",
       "      <td>0.299945</td>\n",
       "      <td>0.014659</td>\n",
       "      <td>gini</td>\n",
       "      <td>2</td>\n",
       "      <td>10</td>\n",
       "      <td>{'criterion': 'gini', 'max_depth': 2, 'min_sam...</td>\n",
       "      <td>0.226947</td>\n",
       "      <td>0.229285</td>\n",
       "      <td>0.208212</td>\n",
       "      <td>0.212334</td>\n",
       "      <td>0.219194</td>\n",
       "      <td>0.009078</td>\n",
       "      <td>50</td>\n",
       "    </tr>\n",
       "    <tr>\n",
       "      <th>2</th>\n",
       "      <td>3.474243</td>\n",
       "      <td>0.011900</td>\n",
       "      <td>0.284885</td>\n",
       "      <td>0.006996</td>\n",
       "      <td>gini</td>\n",
       "      <td>2</td>\n",
       "      <td>20</td>\n",
       "      <td>{'criterion': 'gini', 'max_depth': 2, 'min_sam...</td>\n",
       "      <td>0.261727</td>\n",
       "      <td>0.220517</td>\n",
       "      <td>0.239188</td>\n",
       "      <td>0.237323</td>\n",
       "      <td>0.239689</td>\n",
       "      <td>0.014655</td>\n",
       "      <td>42</td>\n",
       "    </tr>\n",
       "    <tr>\n",
       "      <th>3</th>\n",
       "      <td>3.408274</td>\n",
       "      <td>0.020724</td>\n",
       "      <td>0.325478</td>\n",
       "      <td>0.051086</td>\n",
       "      <td>gini</td>\n",
       "      <td>2</td>\n",
       "      <td>50</td>\n",
       "      <td>{'criterion': 'gini', 'max_depth': 2, 'min_sam...</td>\n",
       "      <td>0.261143</td>\n",
       "      <td>0.223148</td>\n",
       "      <td>0.226622</td>\n",
       "      <td>0.216572</td>\n",
       "      <td>0.231871</td>\n",
       "      <td>0.017281</td>\n",
       "      <td>45</td>\n",
       "    </tr>\n",
       "    <tr>\n",
       "      <th>4</th>\n",
       "      <td>3.454321</td>\n",
       "      <td>0.103615</td>\n",
       "      <td>0.289558</td>\n",
       "      <td>0.014420</td>\n",
       "      <td>gini</td>\n",
       "      <td>2</td>\n",
       "      <td>100</td>\n",
       "      <td>{'criterion': 'gini', 'max_depth': 2, 'min_sam...</td>\n",
       "      <td>0.239661</td>\n",
       "      <td>0.220517</td>\n",
       "      <td>0.225891</td>\n",
       "      <td>0.202835</td>\n",
       "      <td>0.222226</td>\n",
       "      <td>0.013194</td>\n",
       "      <td>48</td>\n",
       "    </tr>\n",
       "  </tbody>\n",
       "</table>\n",
       "</div>"
      ],
      "text/plain": [
       "   mean_fit_time  std_fit_time  mean_score_time  std_score_time  \\\n",
       "0       3.439188      0.014447         0.273470        0.010902   \n",
       "1       3.501954      0.019704         0.299945        0.014659   \n",
       "2       3.474243      0.011900         0.284885        0.006996   \n",
       "3       3.408274      0.020724         0.325478        0.051086   \n",
       "4       3.454321      0.103615         0.289558        0.014420   \n",
       "\n",
       "  param_criterion param_max_depth param_min_samples_leaf  \\\n",
       "0            gini               2                      5   \n",
       "1            gini               2                     10   \n",
       "2            gini               2                     20   \n",
       "3            gini               2                     50   \n",
       "4            gini               2                    100   \n",
       "\n",
       "                                              params  split0_test_score  \\\n",
       "0  {'criterion': 'gini', 'max_depth': 2, 'min_sam...           0.251644   \n",
       "1  {'criterion': 'gini', 'max_depth': 2, 'min_sam...           0.226947   \n",
       "2  {'criterion': 'gini', 'max_depth': 2, 'min_sam...           0.261727   \n",
       "3  {'criterion': 'gini', 'max_depth': 2, 'min_sam...           0.261143   \n",
       "4  {'criterion': 'gini', 'max_depth': 2, 'min_sam...           0.239661   \n",
       "\n",
       "   split1_test_score  split2_test_score  split3_test_score  mean_test_score  \\\n",
       "0           0.231185           0.214348           0.232208         0.232346   \n",
       "1           0.229285           0.208212           0.212334         0.219194   \n",
       "2           0.220517           0.239188           0.237323         0.239689   \n",
       "3           0.223148           0.226622           0.216572         0.231871   \n",
       "4           0.220517           0.225891           0.202835         0.222226   \n",
       "\n",
       "   std_test_score  rank_test_score  \n",
       "0        0.013207               43  \n",
       "1        0.009078               50  \n",
       "2        0.014655               42  \n",
       "3        0.017281               45  \n",
       "4        0.013194               48  "
      ]
     },
     "execution_count": 47,
     "metadata": {},
     "output_type": "execute_result"
    }
   ],
   "source": [
    "score_rf_hp6 = pd.DataFrame(grid_search.cv_results_)\n",
    "score_rf_hp6.head()"
   ]
  },
  {
   "cell_type": "code",
   "execution_count": 48,
   "id": "53a6001e",
   "metadata": {},
   "outputs": [
    {
     "data": {
      "text/plain": [
       "RandomForestClassifier(max_depth=20, min_samples_leaf=5)"
      ]
     },
     "execution_count": 48,
     "metadata": {},
     "output_type": "execute_result"
    }
   ],
   "source": [
    "grid_search.best_estimator_"
   ]
  },
  {
   "cell_type": "code",
   "execution_count": 50,
   "id": "ce1fe571",
   "metadata": {},
   "outputs": [
    {
     "name": "stdout",
     "output_type": "stream",
     "text": [
      "{'criterion': 'gini', 'max_depth': 20, 'min_samples_leaf': 5}\n",
      "0.6108210978587716\n"
     ]
    }
   ],
   "source": [
    "print(grid_search.best_params_)\n",
    "\n",
    "print(grid_search.best_score_)"
   ]
  },
  {
   "cell_type": "code",
   "execution_count": 51,
   "id": "027bdbb5",
   "metadata": {},
   "outputs": [
    {
     "name": "stdout",
     "output_type": "stream",
     "text": [
      "Accuracy: 0.8487163718612869\n",
      "Precision: 0.32439812750780206\n",
      "Recall: 0.7088407208962494\n",
      "F1 Score: 0.44509863893561713\n",
      "Cohens Kappa Score: 0.3712563225519846\n",
      "Area Under Curve: 0.8864243512527248\n"
     ]
    }
   ],
   "source": [
    "grid_search_evaluate = evaluate_model(grid_search, X_test, y_test)\n",
    "print('Accuracy:', grid_search_evaluate['acc'])\n",
    "print('Precision:', grid_search_evaluate['prec'])\n",
    "print('Recall:', grid_search_evaluate['rec'])\n",
    "print('F1 Score:', grid_search_evaluate['f1'])\n",
    "print('Cohens Kappa Score:', grid_search_evaluate['kappa'])\n",
    "print('Area Under Curve:', grid_search_evaluate['auc'])"
   ]
  },
  {
   "cell_type": "markdown",
   "id": "709411c6",
   "metadata": {},
   "source": [
    "For Oversampled Data"
   ]
  },
  {
   "cell_type": "code",
   "execution_count": null,
   "id": "6e08a8f1",
   "metadata": {},
   "outputs": [
    {
     "name": "stdout",
     "output_type": "stream",
     "text": [
      "Fitting 4 folds for each of 50 candidates, totalling 200 fits\n"
     ]
    }
   ],
   "source": [
    "# grid_search.fit(x_over, y_over)    #for oversampled data."
   ]
  },
  {
   "cell_type": "code",
   "execution_count": null,
   "id": "413f3ab7",
   "metadata": {},
   "outputs": [],
   "source": [
    "# score_rf_hp7 = pd.DataFrame(grid_search.cv_results_)\n",
    "# score_rf_hp7.head()"
   ]
  },
  {
   "cell_type": "code",
   "execution_count": null,
   "id": "057f9b1f",
   "metadata": {},
   "outputs": [],
   "source": [
    "# grid_search.best_estimator_"
   ]
  },
  {
   "cell_type": "code",
   "execution_count": null,
   "id": "fb38f06b",
   "metadata": {},
   "outputs": [],
   "source": [
    "# print(grid_search.best_params_)\n",
    "\n",
    "# print(grid_search.best_score_)"
   ]
  },
  {
   "cell_type": "code",
   "execution_count": null,
   "id": "a52cc6d3",
   "metadata": {},
   "outputs": [],
   "source": [
    "# grid_search_evaluate = evaluate_model(grid_search, X_test, y_test)\n",
    "# print('Accuracy:', grid_search_evaluate['acc'])\n",
    "# print('Precision:', grid_search_evaluate['prec'])\n",
    "# print('Recall:', grid_search_evaluate['rec'])\n",
    "# print('F1 Score:', grid_search_evaluate['f1'])\n",
    "# print('Cohens Kappa Score:', grid_search_evaluate['kappa'])\n",
    "# print('Area Under Curve:', grid_search_evaluate['auc'])"
   ]
  },
  {
   "cell_type": "markdown",
   "id": "2cf33dd6",
   "metadata": {},
   "source": [
    "For SMOTE Oversampled Data"
   ]
  },
  {
   "cell_type": "code",
   "execution_count": null,
   "id": "60867421",
   "metadata": {},
   "outputs": [],
   "source": [
    "# grid_search.fit(x_smote, y_smote)    #for SMOTE oversampled data."
   ]
  },
  {
   "cell_type": "code",
   "execution_count": null,
   "id": "d922be1e",
   "metadata": {},
   "outputs": [],
   "source": [
    "# score_rf_hp8 = pd.DataFrame(grid_search.cv_results_)\n",
    "# score_rf_hp8.head()"
   ]
  },
  {
   "cell_type": "code",
   "execution_count": null,
   "id": "ae15a6db",
   "metadata": {},
   "outputs": [],
   "source": [
    "# grid_search.best_estimator_"
   ]
  },
  {
   "cell_type": "code",
   "execution_count": null,
   "id": "224c0623",
   "metadata": {},
   "outputs": [],
   "source": [
    "# print(grid_search.best_params_)\n",
    "\n",
    "# print(grid_search.best_score_)"
   ]
  },
  {
   "cell_type": "code",
   "execution_count": null,
   "id": "fa457a2d",
   "metadata": {},
   "outputs": [],
   "source": [
    "# grid_search_evaluate = evaluate_model(grid_search, X_test, y_test)\n",
    "# print('Accuracy:', grid_search_evaluate['acc'])\n",
    "# print('Precision:', grid_search_evaluate['prec'])\n",
    "# print('Recall:', grid_search_evaluate['rec'])\n",
    "# print('F1 Score:', grid_search_evaluate['f1'])\n",
    "# print('Cohens Kappa Score:', grid_search_evaluate['kappa'])\n",
    "# print('Area Under Curve:', grid_search_evaluate['auc'])"
   ]
  },
  {
   "cell_type": "markdown",
   "id": "805cccdf",
   "metadata": {},
   "source": [
    "##### After Hyperparameter tuning one of our best models - Decision Tree for all imbalanced, undersampled, oversampled and SMOTE oversampled data, the following 2 models are the best:\n",
    "##### 1. SMOTE Oversampled Decision Tree Model with a recall of 0.9461\n",
    "##### 2. Oversampled Decision Tree Model with a recall of 0.9272"
   ]
  }
 ],
 "metadata": {
  "kernelspec": {
   "display_name": "Python 3 (ipykernel)",
   "language": "python",
   "name": "python3"
  },
  "language_info": {
   "codemirror_mode": {
    "name": "ipython",
    "version": 3
   },
   "file_extension": ".py",
   "mimetype": "text/x-python",
   "name": "python",
   "nbconvert_exporter": "python",
   "pygments_lexer": "ipython3",
   "version": "3.9.7"
  }
 },
 "nbformat": 4,
 "nbformat_minor": 5
}
